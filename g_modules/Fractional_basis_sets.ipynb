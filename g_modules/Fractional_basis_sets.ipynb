{
 "cells": [
  {
   "cell_type": "code",
   "execution_count": 1,
   "metadata": {},
   "outputs": [],
   "source": [
    "import basis_set_exchange as bse\n",
    "import matplotlib.pyplot as plt\n",
    "from pyscf import gto,scf\n",
    "import numpy as np\n",
    "from scipy.interpolate import interp1d\n",
    "from pyscf.data.elements import _symbol\n",
    "import copy"
   ]
  },
  {
   "cell_type": "code",
   "execution_count": 2,
   "metadata": {},
   "outputs": [],
   "source": [
    "from FcMole import FcM, FcM_like\n",
    "from FDcoeffs import get_coeffs"
   ]
  },
  {
   "cell_type": "code",
   "execution_count": 3,
   "metadata": {},
   "outputs": [],
   "source": [
    "fd1=np.asarray([1/12,-2/3 ,0,2/3,-1/12])\n",
    "fd2=np.asarray([-1/12,4/3,-5/2,4/3,-1/12])\n",
    "fd3=np.asarray([-1/2,1,0,-1,1/2])\n",
    "fd4=np.asarray([1,-4,6,-4,1])\n",
    "fds=[fd1,fd2,fd3,fd4]\n",
    "fds5=get_coeffs(5)\n",
    "fds7=get_coeffs(7)"
   ]
  },
  {
   "cell_type": "markdown",
   "metadata": {},
   "source": [
    "This is a quadratic interpolation of the basis set coefficients"
   ]
  },
  {
   "cell_type": "code",
   "execution_count": 12,
   "metadata": {},
   "outputs": [],
   "source": [
    "def FCAO(z,bs_name=\"pcX-1\",ref=None):\n",
    "    if z <1.e-10: raise Exception (\"non implemented Zero charge atom\")\n",
    "    if z%1 <1.e-10:\n",
    "        return gto.basis.load(bse.get_basis(bs_name,fmt=\"nwchem\",elements=[int(z)]),_symbol(int(z)))\n",
    "    elif ref:\n",
    "        rb=FCAO(ref,bs_name)\n",
    "        rbm=FCAO(ref-1,bs_name)\n",
    "        rbp=FCAO(ref+1,bs_name)\n",
    "        fb=copy.deepcopy(rb)\n",
    "        for i in range(len(fb)):  # ref+a(z-zr) +b(z-zr)^2\n",
    "            a=(rbp[i][1][0]-rbm[i][1][0])/2\n",
    "            b=(rbp[i][1][0]+rbm[i][1][0]-2*rb[i][1][0])\n",
    "            fb[i][1][0]+=a*(z-ref)+b*(z-ref)**2\n",
    "        return fb\n",
    "    else: raise Exception(\"can't get the fractional charge basis set, frac val and no ref\")"
   ]
  },
  {
   "cell_type": "code",
   "execution_count": 13,
   "metadata": {},
   "outputs": [
    {
     "data": {
      "text/plain": [
       "([[0, [1477.26, 1.0]],\n",
       "  [0, [222.361, 1.0]],\n",
       "  [0, [50.5229, 1.0]],\n",
       "  [0, [13.9594, 1.0]],\n",
       "  [0, [4.21475, 1.0]],\n",
       "  [0, [0.653345, 1.0]],\n",
       "  [0, [0.191501, 1.0]],\n",
       "  [1, [10.9571, 1.0]],\n",
       "  [1, [2.32904, 1.0]],\n",
       "  [1, [0.633257, 1.0]],\n",
       "  [1, [0.16315, 1.0]],\n",
       "  [2, [0.848528, 1.0]]],\n",
       " [[0, [1630.782, 1.0]],\n",
       "  [0, [245.45781999999997, 1.0]],\n",
       "  [0, [55.773661999999995, 1.0]],\n",
       "  [0, [15.424070799999999, 1.0]],\n",
       "  [0, [4.6667834, 1.0]],\n",
       "  [0, [0.7296017599999999, 1.0]],\n",
       "  [0, [0.21275233999999998, 1.0]],\n",
       "  [1, [12.13559, 1.0]],\n",
       "  [1, [2.5907785999999997, 1.0]],\n",
       "  [1, [0.70331618, 1.0]],\n",
       "  [1, [0.17980665999999998, 1.0]],\n",
       "  [2, [0.8785770199999999, 1.0]]],\n",
       " [[0, [1646.4856, 1.0]],\n",
       "  [0, [247.81945999999994, 1.0]],\n",
       "  [0, [56.31019, 1.0]],\n",
       "  [0, [15.574876, 1.0]],\n",
       "  [0, [4.7146668, 1.0]],\n",
       "  [0, [0.7381517, 1.0]],\n",
       "  [0, [0.21519793999999998, 1.0]],\n",
       "  [1, [12.205006, 1.0]],\n",
       "  [1, [2.6080378, 1.0]],\n",
       "  [1, [0.70727308, 1.0]],\n",
       "  [1, [0.18007438, 1.0]],\n",
       "  [2, [0.87857058, 1.0]]],\n",
       " [[0, [2004.67, 1.0]],\n",
       "  [0, [301.707, 1.0]],\n",
       "  [0, [68.5611, 1.0]],\n",
       "  [0, [18.9925, 1.0]],\n",
       "  [0, [5.76941, 1.0]],\n",
       "  [0, [0.916175, 1.0]],\n",
       "  [0, [0.264783, 1.0]],\n",
       "  [1, [14.9507, 1.0]],\n",
       "  [1, [3.21784, 1.0]],\n",
       "  [1, [0.87044, 1.0]],\n",
       "  [1, [0.218852, 1.0]],\n",
       "  [2, [0.948683, 1.0]]])"
      ]
     },
     "execution_count": 13,
     "metadata": {},
     "output_type": "execute_result"
    }
   ],
   "source": [
    "FCAO(6),FCAO(6.3,ref=6),FCAO(6.3,ref=7),FCAO(7)"
   ]
  },
  {
   "cell_type": "code",
   "execution_count": 14,
   "metadata": {},
   "outputs": [
    {
     "name": "stdout",
     "output_type": "stream",
     "text": [
      "converged SCF energy = -108.916591616523\n"
     ]
    }
   ],
   "source": [
    "nn=gto.M(atom=\"N 0 0 0; N 0 0 2.05\",unit=\"Bohr\",basis=bse.get_basis(\"pcX-1\",fmt=\"nwchem\",elements=[6,7,8]))\n",
    "mf=scf.RHF(nn)\n",
    "e_nn=mf.scf()"
   ]
  },
  {
   "cell_type": "code",
   "execution_count": 15,
   "metadata": {},
   "outputs": [
    {
     "name": "stdout",
     "output_type": "stream",
     "text": [
      "converged SCF energy = -108.987830318743\n"
     ]
    }
   ],
   "source": [
    "nn=gto.M(atom=\"N 0 0 0; N 0 0 2.05\",unit=\"Bohr\",basis={7:FCAO(7,\"pcX-2\")})\n",
    "mf=scf.RHF(nn)\n",
    "e_nn=mf.scf()"
   ]
  },
  {
   "cell_type": "code",
   "execution_count": 16,
   "metadata": {},
   "outputs": [
    {
     "name": "stdout",
     "output_type": "stream",
     "text": [
      "(7, 7)\n",
      "converged SCF energy = -109.936895786835\n"
     ]
    },
    {
     "data": {
      "text/plain": [
       "-109.93689578683507"
      ]
     },
     "execution_count": 16,
     "metadata": {},
     "output_type": "execute_result"
    }
   ],
   "source": [
    "hc_nn=FcM_like(nn,fcs=[.5,-.5])\n",
    "print(hc_nn.nelec)\n",
    "mfh=scf.RHF(hc_nn)\n",
    "mfh.scf(dm0=mfh.init_guess_by_1e())"
   ]
  },
  {
   "cell_type": "code",
   "execution_count": 23,
   "metadata": {},
   "outputs": [
    {
     "name": "stdout",
     "output_type": "stream",
     "text": [
      "[7.5 6.5]\n",
      "converged SCF energy = -109.938508227221\n"
     ]
    },
    {
     "data": {
      "text/plain": [
       "-109.93850822722081"
      ]
     },
     "execution_count": 23,
     "metadata": {},
     "output_type": "execute_result"
    }
   ],
   "source": [
    "hc_nn_2=FcM(atom=\"N@1 0 0 0; N@2 0 0 2.05\",fcs=[.5,-.5],unit=\"Bohr\",\\\n",
    "            basis={\"N@1\":FCAO(7.5,\"pcX-2\",ref=7),\"N@2\":FCAO(6.5,\"pcX-2\",ref=7)})\n",
    "print(hc_nn_2.atom_charges())\n",
    "mfh=scf.RHF(hc_nn_2)\n",
    "\n",
    "mfh.scf(dm0=mfh.init_guess_by_1e())"
   ]
  },
  {
   "cell_type": "code",
   "execution_count": 19,
   "metadata": {},
   "outputs": [],
   "source": [
    "cn=gto.M(atom=\"C 0 0 0; N 0 0 2.05\",unit=\"Bohr\",basis=bse.get_basis(\"pcX-1\",fmt=\"nwchem\",elements=[6,7,8]),charge=-1)\n",
    "on=gto.M(atom=\"O 0 0 0; N 0 0 2.05\",unit=\"Bohr\",basis=bse.get_basis(\"pcX-1\",fmt=\"nwchem\",elements=[6,7,8]),charge=1)"
   ]
  },
  {
   "cell_type": "code",
   "execution_count": 51,
   "metadata": {},
   "outputs": [
    {
     "name": "stdout",
     "output_type": "stream",
     "text": [
      "The autoreload extension is already loaded. To reload it, use:\n",
      "  %reload_ext autoreload\n"
     ]
    }
   ],
   "source": [
    "%load_ext autoreload\n",
    "%autoreload 2\n",
    "from AP_class import APDFT_perturbator as AP"
   ]
  },
  {
   "cell_type": "code",
   "execution_count": 52,
   "metadata": {},
   "outputs": [
    {
     "data": {
      "text/plain": [
       "array([[[-0.25690744,  0.10506625],\n",
       "        [ 0.10506625,  0.12935436]],\n",
       "\n",
       "       [[ 0.10506625,  0.12935436],\n",
       "        [ 0.12935436, -0.24371954]]])"
      ]
     },
     "execution_count": 52,
     "metadata": {},
     "output_type": "execute_result"
    }
   ],
   "source": [
    "ap=AP(mfh,sites=[0,1])\n",
    "ap.build_cubic_hessian()"
   ]
  },
  {
   "cell_type": "code",
   "execution_count": 55,
   "metadata": {},
   "outputs": [
    {
     "data": {
      "text/plain": [
       "array([[-3.49057654,  0.48807414],\n",
       "       [ 0.48807414, -3.11515008]])"
      ]
     },
     "execution_count": 55,
     "metadata": {},
     "output_type": "execute_result"
    }
   ],
   "source": [
    "ap.build_gradient()\n",
    "ap.build_hessian()"
   ]
  },
  {
   "cell_type": "code",
   "execution_count": 56,
   "metadata": {},
   "outputs": [
    {
     "data": {
      "text/plain": [
       "-111.83757808221642"
      ]
     },
     "execution_count": 56,
     "metadata": {},
     "output_type": "execute_result"
    }
   ],
   "source": [
    "ap.APDFT1(np.array([.5,-.5]))"
   ]
  },
  {
   "cell_type": "code",
   "execution_count": 57,
   "metadata": {},
   "outputs": [
    {
     "data": {
      "text/plain": [
       "-108.03943837222519"
      ]
     },
     "execution_count": 57,
     "metadata": {},
     "output_type": "execute_result"
    }
   ],
   "source": [
    "ap.APDFT1(np.array([-.5,.5]))"
   ]
  },
  {
   "cell_type": "code",
   "execution_count": 59,
   "metadata": {},
   "outputs": [
    {
     "data": {
      "text/plain": [
       "(-108.98841599354571, -108.98783031874271)"
      ]
     },
     "execution_count": 59,
     "metadata": {},
     "output_type": "execute_result"
    }
   ],
   "source": [
    "ap.APDFT3(np.array([-.5,.5])),mf.e_tot"
   ]
  },
  {
   "cell_type": "code",
   "execution_count": null,
   "metadata": {},
   "outputs": [],
   "source": []
  }
 ],
 "metadata": {
  "kernelspec": {
   "display_name": "Python 3 (ipykernel)",
   "language": "python",
   "name": "python3"
  },
  "language_info": {
   "codemirror_mode": {
    "name": "ipython",
    "version": 3
   },
   "file_extension": ".py",
   "mimetype": "text/x-python",
   "name": "python",
   "nbconvert_exporter": "python",
   "pygments_lexer": "ipython3",
   "version": "3.8.13"
  }
 },
 "nbformat": 4,
 "nbformat_minor": 2
}
