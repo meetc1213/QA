{
 "cells": [
  {
   "cell_type": "code",
   "execution_count": 1,
   "metadata": {},
   "outputs": [],
   "source": [
    "%load_ext autoreload\n",
    "%autoreload 2\n",
    "%matplotlib inline\n",
    "import main\n",
    "from main import *\n",
    "import multiprocessing\n",
    "import concurrent.futures\n",
    "import matplotlib.image as mpimg\n",
    "import stat_funcs\n",
    "from m_modules.energy import *\n",
    "import pandas as pd\n",
    "from m_modules.plots import *"
   ]
  },
  {
   "cell_type": "code",
   "execution_count": 2,
   "metadata": {},
   "outputs": [],
   "source": [
    "# Concerns:\n",
    "#\n",
    "# correct all the end point energies in the data file\n",
    "# Soln: Giorgio - There would be errors due to basis set differences"
   ]
  },
  {
   "cell_type": "code",
   "execution_count": null,
   "metadata": {},
   "outputs": [],
   "source": [
    "'''Creating a supplementary table for all dft energies'''\n",
    "l_nl_plot(atomic_number, exponent, d, frac_energies, pre_NN_l, pre_CO_l, pre_BF_l, prediction, x_axis):\n"
   ]
  }
 ],
 "metadata": {
  "kernelspec": {
   "display_name": "Python 3",
   "language": "python",
   "name": "python3"
  },
  "language_info": {
   "codemirror_mode": {
    "name": "ipython",
    "version": 3
   },
   "file_extension": ".py",
   "mimetype": "text/x-python",
   "name": "python",
   "nbconvert_exporter": "python",
   "pygments_lexer": "ipython3",
   "version": "3.10.4"
  },
  "orig_nbformat": 4
 },
 "nbformat": 4,
 "nbformat_minor": 2
}
