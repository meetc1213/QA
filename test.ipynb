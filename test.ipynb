{
 "cells": [
  {
   "cell_type": "code",
   "execution_count": 1,
   "metadata": {},
   "outputs": [],
   "source": [
    "%load_ext autoreload\n",
    "%autoreload 2\n",
    "%matplotlib inline\n",
    "import main\n",
    "from main import *\n",
    "import multiprocessing\n",
    "import concurrent.futures\n",
    "import matplotlib.image as mpimg\n",
    "import stat_funcs"
   ]
  },
  {
   "cell_type": "code",
   "execution_count": 2,
   "metadata": {},
   "outputs": [],
   "source": [
    "%matplotlib inline\n",
    "num_processes = multiprocessing.cpu_count()  # Get the number of CPU cores\n",
    "inputs = range(5,10)  # Example input values\n",
    "# sys.stdout.flush()\n",
    "# with concurrent.futures.ProcessPoolExecutor(max_workers=num_processes) as executor:\n",
    "#     results = executor.map(initiate, inputs)"
   ]
  },
  {
   "cell_type": "code",
   "execution_count": 3,
   "metadata": {},
   "outputs": [],
   "source": [
    "# %matplotlib inline\n",
    "# delta = .1\n",
    "# t = np.arange(-2*np.pi, 2*np.pi, delta)\n",
    "# T1 = np.pi\n",
    "# T2 = np.pi / 0.95\n",
    "# signal = np.abs(2/len(t) * np.sin(2*np.pi/T1*t))*np.cos(2*np.pi/T2*t)\n",
    "# freq = np.fft.rfftfreq(len(t),delta)\n",
    "# plt.plot(freq,np.real(np.fft.rfft(signal)), label='real')\n",
    "# plt.plot(freq, np.imag(np.fft.rfft(signal)), label='imag')\n",
    "# plt.legend()\n",
    "# plt.title('Example of fft of product of 2 sinusoids')\n",
    "# plt.xlabel('Frequency')\n",
    "# plt.ylabel('Amplitude in some units')\n",
    "# %matplotlib inline\n",
    "# plt.plot(t,signal)"
   ]
  },
  {
   "cell_type": "code",
   "execution_count": 4,
   "metadata": {},
   "outputs": [],
   "source": [
    "from m_modules.energy import *\n",
    "\n",
    "# for sep in np.arange(0.05, 5, 0.1):\n",
    "#     print(f'at separation {sep} Bohr')\n",
    "#     # since d Te / d S = d E_elec - Z_1 Z_2 / s^2, \n",
    "#     # d E_elec =  d Te / d S + Z_1 Z_2 / s^2\n",
    "#     a,b,elec, tot = get_mol_energy_grad(7,7,sep)"
   ]
  },
  {
   "cell_type": "code",
   "execution_count": 14,
   "metadata": {},
   "outputs": [
    {
     "ename": "KeyboardInterrupt",
     "evalue": "",
     "output_type": "error",
     "traceback": [
      "\u001b[0;31m---------------------------------------------------------------------------\u001b[0m",
      "\u001b[0;31mKeyboardInterrupt\u001b[0m                         Traceback (most recent call last)",
      "\u001b[1;32m/Users/meet/Desktop/Courses/Research/Chem/Code/QA/test.ipynb Cell 5\u001b[0m in \u001b[0;36m1\n\u001b[1;32m     <a href='vscode-notebook-cell:/Users/meet/Desktop/Courses/Research/Chem/Code/QA/test.ipynb#W4sZmlsZQ%3D%3D?line=13'>14</a>\u001b[0m atoms \u001b[39m=\u001b[39m np\u001b[39m.\u001b[39marray([\u001b[39m8\u001b[39m,\u001b[39m6\u001b[39m])\n\u001b[1;32m     <a href='vscode-notebook-cell:/Users/meet/Desktop/Courses/Research/Chem/Code/QA/test.ipynb#W4sZmlsZQ%3D%3D?line=14'>15</a>\u001b[0m sep \u001b[39m=\u001b[39m np\u001b[39m.\u001b[39marange(\u001b[39mmin\u001b[39m, \u001b[39mmax\u001b[39m\u001b[39m+\u001b[39mstepsize, stepsize)\n\u001b[0;32m---> <a href='vscode-notebook-cell:/Users/meet/Desktop/Courses/Research/Chem/Code/QA/test.ipynb#W4sZmlsZQ%3D%3D?line=15'>16</a>\u001b[0m data \u001b[39m=\u001b[39m gen_sep_data(atoms[\u001b[39m0\u001b[39m],atoms[\u001b[39m1\u001b[39m], \u001b[39mmin\u001b[39m, \u001b[39mmax\u001b[39m, stepsize) \u001b[39m-\u001b[39m np\u001b[39m.\u001b[39mprod(atoms) \u001b[39m/\u001b[39m sep\u001b[39m*\u001b[39m\u001b[39m*\u001b[39m\u001b[39m2\u001b[39m \u001b[39m# gives total energy curve\u001b[39;00m\n\u001b[1;32m     <a href='vscode-notebook-cell:/Users/meet/Desktop/Courses/Research/Chem/Code/QA/test.ipynb#W4sZmlsZQ%3D%3D?line=17'>18</a>\u001b[0m \u001b[39m# restricting data\u001b[39;00m\n\u001b[1;32m     <a href='vscode-notebook-cell:/Users/meet/Desktop/Courses/Research/Chem/Code/QA/test.ipynb#W4sZmlsZQ%3D%3D?line=18'>19</a>\u001b[0m from_ \u001b[39m=\u001b[39m \u001b[39m1\u001b[39m\n",
      "File \u001b[0;32m~/Desktop/Courses/Research/Chem/Code/QA/m_modules/energy.py:191\u001b[0m, in \u001b[0;36mgen_sep_data\u001b[0;34m(Z1, Z2, min_sep, max_sep, sep_step)\u001b[0m\n\u001b[1;32m    189\u001b[0m mf_mol\u001b[39m.\u001b[39mxc\u001b[39m=\u001b[39m\u001b[39m\"\u001b[39m\u001b[39mPBE0\u001b[39m\u001b[39m\"\u001b[39m\n\u001b[1;32m    190\u001b[0m mf_mol\u001b[39m.\u001b[39mverbose \u001b[39m=\u001b[39m \u001b[39m0\u001b[39m\n\u001b[0;32m--> 191\u001b[0m TE \u001b[39m=\u001b[39m mf_mol\u001b[39m.\u001b[39;49mscf(dm0\u001b[39m=\u001b[39;49mmf_mol\u001b[39m.\u001b[39;49minit_guess_by_1e())\n\u001b[1;32m    192\u001b[0m elec_energy \u001b[39m=\u001b[39m \u001b[39mround\u001b[39m(mf_mol\u001b[39m.\u001b[39menergy_elec()[\u001b[39m0\u001b[39m],\u001b[39m3\u001b[39m)\n\u001b[1;32m    193\u001b[0m frac_energies\u001b[39m.\u001b[39mappend(TE)\n",
      "File \u001b[0;32m/Library/Frameworks/Python.framework/Versions/3.10/lib/python3.10/site-packages/pyscf/scf/hf.py:1697\u001b[0m, in \u001b[0;36mSCF.scf\u001b[0;34m(self, dm0, **kwargs)\u001b[0m\n\u001b[1;32m   1692\u001b[0m \u001b[39mself\u001b[39m\u001b[39m.\u001b[39mbuild(\u001b[39mself\u001b[39m\u001b[39m.\u001b[39mmol)\n\u001b[1;32m   1694\u001b[0m \u001b[39mif\u001b[39;00m \u001b[39mself\u001b[39m\u001b[39m.\u001b[39mmax_cycle \u001b[39m>\u001b[39m \u001b[39m0\u001b[39m \u001b[39mor\u001b[39;00m \u001b[39mself\u001b[39m\u001b[39m.\u001b[39mmo_coeff \u001b[39mis\u001b[39;00m \u001b[39mNone\u001b[39;00m:\n\u001b[1;32m   1695\u001b[0m     \u001b[39mself\u001b[39m\u001b[39m.\u001b[39mconverged, \u001b[39mself\u001b[39m\u001b[39m.\u001b[39me_tot, \\\n\u001b[1;32m   1696\u001b[0m             \u001b[39mself\u001b[39m\u001b[39m.\u001b[39mmo_energy, \u001b[39mself\u001b[39m\u001b[39m.\u001b[39mmo_coeff, \u001b[39mself\u001b[39m\u001b[39m.\u001b[39mmo_occ \u001b[39m=\u001b[39m \\\n\u001b[0;32m-> 1697\u001b[0m             kernel(\u001b[39mself\u001b[39;49m, \u001b[39mself\u001b[39;49m\u001b[39m.\u001b[39;49mconv_tol, \u001b[39mself\u001b[39;49m\u001b[39m.\u001b[39;49mconv_tol_grad,\n\u001b[1;32m   1698\u001b[0m                    dm0\u001b[39m=\u001b[39;49mdm0, callback\u001b[39m=\u001b[39;49m\u001b[39mself\u001b[39;49m\u001b[39m.\u001b[39;49mcallback,\n\u001b[1;32m   1699\u001b[0m                    conv_check\u001b[39m=\u001b[39;49m\u001b[39mself\u001b[39;49m\u001b[39m.\u001b[39;49mconv_check, \u001b[39m*\u001b[39;49m\u001b[39m*\u001b[39;49mkwargs)\n\u001b[1;32m   1700\u001b[0m \u001b[39melse\u001b[39;00m:\n\u001b[1;32m   1701\u001b[0m     \u001b[39m# Avoid to update SCF orbitals in the non-SCF initialization\u001b[39;00m\n\u001b[1;32m   1702\u001b[0m     \u001b[39m# (issue #495).  But run regular SCF for initial guess if SCF was\u001b[39;00m\n\u001b[1;32m   1703\u001b[0m     \u001b[39m# not initialized.\u001b[39;00m\n\u001b[1;32m   1704\u001b[0m     \u001b[39mself\u001b[39m\u001b[39m.\u001b[39me_tot \u001b[39m=\u001b[39m kernel(\u001b[39mself\u001b[39m, \u001b[39mself\u001b[39m\u001b[39m.\u001b[39mconv_tol, \u001b[39mself\u001b[39m\u001b[39m.\u001b[39mconv_tol_grad,\n\u001b[1;32m   1705\u001b[0m                         dm0\u001b[39m=\u001b[39mdm0, callback\u001b[39m=\u001b[39m\u001b[39mself\u001b[39m\u001b[39m.\u001b[39mcallback,\n\u001b[1;32m   1706\u001b[0m                         conv_check\u001b[39m=\u001b[39m\u001b[39mself\u001b[39m\u001b[39m.\u001b[39mconv_check, \u001b[39m*\u001b[39m\u001b[39m*\u001b[39mkwargs)[\u001b[39m1\u001b[39m]\n",
      "File \u001b[0;32m/Library/Frameworks/Python.framework/Versions/3.10/lib/python3.10/site-packages/pyscf/scf/hf.py:184\u001b[0m, in \u001b[0;36mkernel\u001b[0;34m(mf, conv_tol, conv_tol_grad, dump_chk, dm0, callback, conv_check, **kwargs)\u001b[0m\n\u001b[1;32m    182\u001b[0m \u001b[39m# attach mo_coeff and mo_occ to dm to improve DFT get_veff efficiency\u001b[39;00m\n\u001b[1;32m    183\u001b[0m dm \u001b[39m=\u001b[39m lib\u001b[39m.\u001b[39mtag_array(dm, mo_coeff\u001b[39m=\u001b[39mmo_coeff, mo_occ\u001b[39m=\u001b[39mmo_occ)\n\u001b[0;32m--> 184\u001b[0m vhf \u001b[39m=\u001b[39m mf\u001b[39m.\u001b[39;49mget_veff(mol, dm, dm_last, vhf)\n\u001b[1;32m    185\u001b[0m e_tot \u001b[39m=\u001b[39m mf\u001b[39m.\u001b[39menergy_tot(dm, h1e, vhf)\n\u001b[1;32m    187\u001b[0m \u001b[39m# Here Fock matrix is h1e + vhf, without DIIS.  Calling get_fock\u001b[39;00m\n\u001b[1;32m    188\u001b[0m \u001b[39m# instead of the statement \"fock = h1e + vhf\" because Fock matrix may\u001b[39;00m\n\u001b[1;32m    189\u001b[0m \u001b[39m# be modified in some methods.\u001b[39;00m\n",
      "File \u001b[0;32m/Library/Frameworks/Python.framework/Versions/3.10/lib/python3.10/site-packages/pyscf/dft/rks.py:114\u001b[0m, in \u001b[0;36mget_veff\u001b[0;34m(ks, mol, dm, dm_last, vhf_last, hermi)\u001b[0m\n\u001b[1;32m    112\u001b[0m     vk \u001b[39m+\u001b[39m\u001b[39m=\u001b[39m vhf_last\u001b[39m.\u001b[39mvk\n\u001b[1;32m    113\u001b[0m \u001b[39melse\u001b[39;00m:\n\u001b[0;32m--> 114\u001b[0m     vj, vk \u001b[39m=\u001b[39m ks\u001b[39m.\u001b[39;49mget_jk(mol, dm, hermi)\n\u001b[1;32m    115\u001b[0m     vk \u001b[39m*\u001b[39m\u001b[39m=\u001b[39m hyb\n\u001b[1;32m    116\u001b[0m     \u001b[39mif\u001b[39;00m omega \u001b[39m!=\u001b[39m \u001b[39m0\u001b[39m:\n",
      "File \u001b[0;32m/Library/Frameworks/Python.framework/Versions/3.10/lib/python3.10/site-packages/pyscf/scf/hf.py:2065\u001b[0m, in \u001b[0;36mRHF.get_jk\u001b[0;34m(self, mol, dm, hermi, with_j, with_k, omega)\u001b[0m\n\u001b[1;32m   2063\u001b[0m     \u001b[39mif\u001b[39;00m \u001b[39mself\u001b[39m\u001b[39m.\u001b[39m_eri \u001b[39mis\u001b[39;00m \u001b[39mNone\u001b[39;00m:\n\u001b[1;32m   2064\u001b[0m         \u001b[39mself\u001b[39m\u001b[39m.\u001b[39m_eri \u001b[39m=\u001b[39m mol\u001b[39m.\u001b[39mintor(\u001b[39m'\u001b[39m\u001b[39mint2e\u001b[39m\u001b[39m'\u001b[39m, aosym\u001b[39m=\u001b[39m\u001b[39m'\u001b[39m\u001b[39ms8\u001b[39m\u001b[39m'\u001b[39m)\n\u001b[0;32m-> 2065\u001b[0m     vj, vk \u001b[39m=\u001b[39m dot_eri_dm(\u001b[39mself\u001b[39;49m\u001b[39m.\u001b[39;49m_eri, dm, hermi, with_j, with_k)\n\u001b[1;32m   2066\u001b[0m \u001b[39melse\u001b[39;00m:\n\u001b[1;32m   2067\u001b[0m     vj, vk \u001b[39m=\u001b[39m SCF\u001b[39m.\u001b[39mget_jk(\u001b[39mself\u001b[39m, mol, dm, hermi, with_j, with_k, omega)\n",
      "File \u001b[0;32m/Library/Frameworks/Python.framework/Versions/3.10/lib/python3.10/site-packages/pyscf/scf/hf.py:761\u001b[0m, in \u001b[0;36mdot_eri_dm\u001b[0;34m(eri, dm, hermi, with_j, with_k)\u001b[0m\n\u001b[1;32m    759\u001b[0m         vk \u001b[39m=\u001b[39m vk\u001b[39m.\u001b[39mreshape(dm\u001b[39m.\u001b[39mshape)\n\u001b[1;32m    760\u001b[0m \u001b[39melse\u001b[39;00m:\n\u001b[0;32m--> 761\u001b[0m     vj, vk \u001b[39m=\u001b[39m _vhf\u001b[39m.\u001b[39;49mincore(eri, dm\u001b[39m.\u001b[39;49mreal, hermi, with_j, with_k)\n\u001b[1;32m    762\u001b[0m     \u001b[39mif\u001b[39;00m dm\u001b[39m.\u001b[39mdtype \u001b[39m==\u001b[39m numpy\u001b[39m.\u001b[39mcomplex128:\n\u001b[1;32m    763\u001b[0m         vs \u001b[39m=\u001b[39m _vhf\u001b[39m.\u001b[39mincore(eri, dm\u001b[39m.\u001b[39mimag, \u001b[39m0\u001b[39m, with_j, with_k)\n",
      "File \u001b[0;32m/Library/Frameworks/Python.framework/Versions/3.10/lib/python3.10/site-packages/pyscf/scf/_vhf.py:285\u001b[0m, in \u001b[0;36mincore\u001b[0;34m(eri, dms, hermi, with_j, with_k)\u001b[0m\n\u001b[1;32m    281\u001b[0m     \u001b[39mraise\u001b[39;00m \u001b[39mRuntimeError\u001b[39;00m(\u001b[39m'\u001b[39m\u001b[39mArray shape not consistent: DM \u001b[39m\u001b[39m%s\u001b[39;00m\u001b[39m, eri \u001b[39m\u001b[39m%s\u001b[39;00m\u001b[39m'\u001b[39m\n\u001b[1;32m    282\u001b[0m                        \u001b[39m%\u001b[39m (dms_shape, eri\u001b[39m.\u001b[39mshape))\n\u001b[1;32m    284\u001b[0m n_ops \u001b[39m=\u001b[39m \u001b[39mlen\u001b[39m(dmsptr)\n\u001b[0;32m--> 285\u001b[0m fdrv(eri\u001b[39m.\u001b[39;49mctypes\u001b[39m.\u001b[39;49mdata_as(ctypes\u001b[39m.\u001b[39;49mc_void_p),\n\u001b[1;32m    286\u001b[0m      (ctypes\u001b[39m.\u001b[39;49mc_void_p\u001b[39m*\u001b[39;49mn_ops)(\u001b[39m*\u001b[39;49mdmsptr), (ctypes\u001b[39m.\u001b[39;49mc_void_p\u001b[39m*\u001b[39;49mn_ops)(\u001b[39m*\u001b[39;49mvjkptr),\n\u001b[1;32m    287\u001b[0m      ctypes\u001b[39m.\u001b[39;49mc_int(n_ops), ctypes\u001b[39m.\u001b[39;49mc_int(nao),\n\u001b[1;32m    288\u001b[0m      (ctypes\u001b[39m.\u001b[39;49mc_void_p\u001b[39m*\u001b[39;49mn_ops)(\u001b[39m*\u001b[39;49mfjkptr))\n\u001b[1;32m    290\u001b[0m \u001b[39mif\u001b[39;00m with_j:\n\u001b[1;32m    291\u001b[0m     \u001b[39mfor\u001b[39;00m i \u001b[39min\u001b[39;00m \u001b[39mrange\u001b[39m(n_dm):\n",
      "\u001b[0;31mKeyboardInterrupt\u001b[0m: "
     ]
    }
   ],
   "source": [
    "def pol_fit(d, A, n, C):\n",
    "    # here U is energy at separation of 1 Bohr\n",
    "    # A = (1 / (C-U))** (1/n) - 1\n",
    "    # A = 0\n",
    "    return A / np.power(d,n) + C\n",
    "\n",
    "def exp(freq, A, offset,n,C):\n",
    "    return A*np.exp((freq-offset)*n) + C\n",
    "\n",
    "        \n",
    "min = 0.1\n",
    "max = 10\n",
    "stepsize = 0.1\n",
    "atoms = np.array([8,6])\n",
    "sep = np.arange(min, max+stepsize, stepsize)\n",
    "data = gen_sep_data(atoms[0],atoms[1], min, max, stepsize) - np.prod(atoms) / sep**2 # gives total energy curve\n",
    "\n",
    "# restricting data\n",
    "from_ = 1\n",
    "to_ = 9\n",
    "data = data[(sep > from_) & (sep < to_)]\n",
    "sep = sep[(sep > from_) & (sep < to_)]\n",
    "exponent = 2.05\n",
    "# fitting \n",
    "C = -np.sum(atoms**exponent)\n",
    "U =  -289.201\n",
    "\n",
    "# popt_, pcov_ = curve_fit(exp, sep, data,absolute_sigma=True,p0 = (-300, -0.5, -1.5,C-2),maxfev=100000)\n",
    "# fit_ = exp(sep, *popt_)\n",
    "\n",
    "popt_, pcov_ = curve_fit(pol_fit, sep, data,absolute_sigma=True,p0 = (-50, 1.8,C),maxfev=100000)\n",
    "fit_ = pol_fit(sep, *popt_)\n",
    "fitted_exponent = round(popt_[1],3)\n",
    "\n",
    "d_i = 2.1\n",
    "elec_equi, elec_grad, tot_grad = get_mol_energy_grad(atoms[0],atoms[1],d_i)\n",
    "gradient = elec_grad[1] # d E / d sep --- keeping left atom fixed and shifting right atom\n",
    "\n",
    "prediction = elec_equi + gradient * d_S_gamma(d_i, sep, fitted_exponent)\n",
    "\n",
    "new_prediction = prediction\n",
    "print(elec_equi)\n",
    "get_values_uc(pol_fit, popt_, pcov_)\n",
    "print(f\" Unified energy = {pol_fit(0, *popt_)}\")\n",
    "\n",
    "# plotting\n",
    "plt.scatter(sep, data, label = 'dft calcs')\n",
    "plt.plot(sep, fit_, label=f'fit = A * d^(-{fitted_exponent}) + C, C = free atom elec energy')\n",
    "plt.plot(sep, prediction, label='linearized pred')\n",
    "\n",
    "plt.xlabel(\"Separation (Bohr); delta = 0.1 Bohr\")\n",
    "plt.ylabel(\"Energy (Hartree)\")\n",
    "plt.legend()"
   ]
  },
  {
   "cell_type": "code",
   "execution_count": 6,
   "metadata": {},
   "outputs": [
    {
     "name": "stdout",
     "output_type": "stream",
     "text": [
      "1.1\n"
     ]
    },
    {
     "data": {
      "text/plain": [
       "-145.0"
      ]
     },
     "execution_count": 6,
     "metadata": {},
     "output_type": "execute_result"
    }
   ],
   "source": [
    "print(sep[0])\n",
    "def pol_fit(d, n,U, C):\n",
    "    # here U is energy at separation of 1 Bohr\n",
    "    A = (1 / (C-U))** (1/n) - 1\n",
    "    return -1 / np.power(d+A,n) + C\n",
    "\n",
    "pol_fit(1,2, -145, C)"
   ]
  },
  {
   "cell_type": "code",
   "execution_count": null,
   "metadata": {},
   "outputs": [],
   "source": []
  }
 ],
 "metadata": {
  "kernelspec": {
   "display_name": "Python 3",
   "language": "python",
   "name": "python3"
  },
  "language_info": {
   "codemirror_mode": {
    "name": "ipython",
    "version": 3
   },
   "file_extension": ".py",
   "mimetype": "text/x-python",
   "name": "python",
   "nbconvert_exporter": "python",
   "pygments_lexer": "ipython3",
   "version": "3.10.4"
  },
  "orig_nbformat": 4
 },
 "nbformat": 4,
 "nbformat_minor": 2
}
