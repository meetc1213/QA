{
 "cells": [
  {
   "cell_type": "code",
   "execution_count": 2,
   "metadata": {},
   "outputs": [
    {
     "data": {
      "text/plain": [
       "'\\nCredit goes to Mr. Georgio for creating the very helpful modules used in this file.\\n'"
      ]
     },
     "execution_count": 2,
     "metadata": {},
     "output_type": "execute_result"
    }
   ],
   "source": [
    "'''\n",
    "Credit goes to Mr. Georgio for creating the very helpful modules used in this file.\n",
    "'''"
   ]
  },
  {
   "cell_type": "code",
   "execution_count": 3,
   "metadata": {},
   "outputs": [],
   "source": [
    "from pyscf import gto,scf, cc\n",
    "import numpy as np\n",
    "import pyscf\n",
    "import matplotlib.pyplot as plt\n",
    "import basis_set_exchange as bse\n",
    "from FcMole import FcM, FcM_like\n",
    "def generate_table(data):\n",
    "    # Determine the maximum width of each column\n",
    "    column_widths = [max(len(str(row[i])) for row in data) for i in range(len(data[0]))]\n",
    "\n",
    "    # Generate the table header\n",
    "    table = generate_table_row(data[0], column_widths)\n",
    "    table += generate_table_row(['-' * width for width in column_widths], column_widths)\n",
    "\n",
    "    # Generate the table rows\n",
    "    for row in data[1:]:\n",
    "        table += generate_table_row(row, column_widths)\n",
    "\n",
    "    return table\n",
    "\n",
    "def generate_table_row(row_data, column_widths):\n",
    "    row = '|'\n",
    "    for i, item in enumerate(row_data):\n",
    "        row += f' {str(item):{column_widths[i]}} |'\n",
    "    row += '\\n'\n",
    "    return row"
   ]
  },
  {
   "cell_type": "code",
   "execution_count": 4,
   "metadata": {},
   "outputs": [],
   "source": [
    "%load_ext autoreload\n",
    "%autoreload 2\n",
    "from AP_class import APDFT_perturbator as AP"
   ]
  },
  {
   "attachments": {},
   "cell_type": "markdown",
   "metadata": {},
   "source": [
    "#### Verifying electronic energy curve"
   ]
  },
  {
   "cell_type": "code",
   "execution_count": 5,
   "metadata": {},
   "outputs": [],
   "source": [
    "# def calc_elec_energy(separation):\n",
    "#     mol = gto.M(atom= f\"N 0 0 0; N 0 0 {separation}\",unit=\"Bohr\",basis=bse.get_basis('pcX-2',fmt=\"nwchem\",elements=[5,6,7,8,9]))\n",
    "#     mol_conv= scf.RHF(mol)\n",
    "#     return mol_conv.scf() - 7*7/separation"
   ]
  },
  {
   "cell_type": "code",
   "execution_count": 6,
   "metadata": {},
   "outputs": [],
   "source": [
    "# x = 0\n",
    "# distances = []\n",
    "# energies = []\n",
    "# while x < 1:\n",
    "#     distances.append(x)\n",
    "#     energies.append(calc_elec_energy(x))\n",
    "#     x+= 0.3\n",
    "# plt.plot(distances, energies)"
   ]
  },
  {
   "cell_type": "code",
   "execution_count": 7,
   "metadata": {},
   "outputs": [
    {
     "data": {
      "text/plain": [
       "'\\nThings to do: calculate CCSD, RKS energies.  Done\\nAssume current calculated one and use Hessian to predict energies \\nand see whether they are nearby for the other two compounds. Done.\\n\\nsee if the nl gradients make sense: from CO, NN pred must be\\ncloser to NN actual than that of BF. \\n\\nCheck issue of NN slope 0\\n'"
      ]
     },
     "execution_count": 7,
     "metadata": {},
     "output_type": "execute_result"
    }
   ],
   "source": [
    "'''\n",
    "Things to do: calculate CCSD, RKS energies.  Done\n",
    "Assume current calculated one and use Hessian to predict energies \n",
    "and see whether they are nearby for the other two compounds. Done.\n",
    "\n",
    "see if the nl gradients make sense: from CO, NN pred must be\n",
    "closer to NN actual than that of BF. \n",
    "\n",
    "Check issue of NN slope 0\n",
    "'''"
   ]
  },
  {
   "cell_type": "code",
   "execution_count": 8,
   "metadata": {},
   "outputs": [
    {
     "data": {
      "text/plain": [
       "'\\nNN total energy CCSD(t)  = -109.36\\n'"
      ]
     },
     "execution_count": 8,
     "metadata": {},
     "output_type": "execute_result"
    }
   ],
   "source": [
    "# # calculate CCSD \n",
    "# NN = gto.M(atom= f\"N 0 0 0; N 0 0 2.1\",unit=\"Bohr\",basis='unc-ccpvdz')\n",
    "# CO =  gto.M(atom= f\"C 0 0 0; O 0 0 2.267671\",unit=\"Bohr\",basis='unc-ccpvdz')\n",
    "# BF = FcM_like(NN,fcs=[-2,2])\n",
    "\n",
    "# print(cc.CCSD(scf.HF(CO).run()).run().ccsd_t())\n",
    "    \n",
    "'''\n",
    "NN total energy CCSD(t)  = -109.36\n",
    "'''"
   ]
  },
  {
   "attachments": {},
   "cell_type": "markdown",
   "metadata": {},
   "source": [
    "### Defining my molecules"
   ]
  },
  {
   "cell_type": "code",
   "execution_count": 9,
   "metadata": {},
   "outputs": [
    {
     "name": "stdout",
     "output_type": "stream",
     "text": [
      "converged SCF energy = -109.4150800176\n"
     ]
    },
    {
     "name": "stderr",
     "output_type": "stream",
     "text": [
      "/Library/Frameworks/Python.framework/Versions/3.10/lib/python3.10/site-packages/pyscf/gto/mole.py:1213: UserWarning: Function mol.dumps drops attribute with_rinv_at_nucleus because it is not JSON-serializable\n",
      "  warnings.warn(msg)\n"
     ]
    },
    {
     "name": "stdout",
     "output_type": "stream",
     "text": [
      "converged SCF energy = -113.178333785775\n",
      "converged SCF energy = -124.408104202864\n"
     ]
    }
   ],
   "source": [
    "# uncontracted cc-pvdz\n",
    "d = 2.1\n",
    "NN = gto.M(atom= f\"N 0 0 0; N 0 0 {d}\",unit=\"Bohr\",basis='unc-ccpvdz')\n",
    "CO = FcM_like(NN,fcs=[-1,1])\n",
    "BF = FcM_like(NN,fcs=[-2,2])\n",
    "\n",
    "# Restricted HF\n",
    "# mol_NN = scf.RHF(NN)\n",
    "# mol_CO= scf.RHF(CO)\n",
    "# mol_BF= scf.RHF(BF)\n",
    "\n",
    "# using PBE0 with RKS\n",
    "mol_NN=scf.RKS(NN)\n",
    "mol_NN.xc=\"PBE0\"\n",
    "mol_CO=scf.RKS(CO)\n",
    "mol_CO.xc=\"PBE0\"\n",
    "mol_BF=scf.RKS(BF)\n",
    "mol_BF.xc=\"PBE0\"\n",
    "\n",
    "\n",
    "Te_NN=mol_NN.scf(dm0=mol_NN.init_guess_by_1e())\n",
    "Te_CO=mol_CO.scf(dm0=mol_CO.init_guess_by_1e())\n",
    "Te_BF=mol_BF.scf(dm0=mol_BF.init_guess_by_1e())"
   ]
  },
  {
   "cell_type": "code",
   "execution_count": 10,
   "metadata": {},
   "outputs": [
    {
     "data": {
      "text/plain": [
       "'calculating energy via RKS for complete CO'"
      ]
     },
     "execution_count": 10,
     "metadata": {},
     "output_type": "execute_result"
    }
   ],
   "source": [
    "'''calculating energy via RKS for complete CO'''\n",
    "# CO_ = gto.M(atom= f\"C 0 0 0; O 0 0 2.267671\",unit=\"Bohr\",basis='unc-ccpvdz')\n",
    "# mol_CO_=scf.RKS(CO_)\n",
    "# mol_CO_.xc=\"PBE0\"\n",
    "# mol_CO_.scf(dm0=mol_CO_.init_guess_by_1e()) - np.prod(CO.atom_charges()) / d"
   ]
  },
  {
   "attachments": {},
   "cell_type": "markdown",
   "metadata": {},
   "source": [
    "## Calculating their electronic energies"
   ]
  },
  {
   "cell_type": "code",
   "execution_count": 11,
   "metadata": {},
   "outputs": [
    {
     "name": "stdout",
     "output_type": "stream",
     "text": [
      "-132.748 -136.035 -145.837\n"
     ]
    }
   ],
   "source": [
    "# Subtracting nuclear repulsion from total energy to calculate total electronic energy\n",
    "e_NN = round(Te_NN - np.prod(NN.atom_charges()) / d,3)\n",
    "e_CO = round(Te_CO - np.prod(CO.atom_charges()) / d,3)\n",
    "e_BF = round(Te_BF - np.prod(BF.atom_charges()) / d,3)\n",
    "print(e_NN, e_CO, e_BF)"
   ]
  },
  {
   "cell_type": "code",
   "execution_count": null,
   "metadata": {},
   "outputs": [],
   "source": []
  },
  {
   "cell_type": "code",
   "execution_count": 12,
   "metadata": {},
   "outputs": [
    {
     "data": {
      "text/plain": [
       "[<matplotlib.lines.Line2D at 0x140d5c2e0>]"
      ]
     },
     "execution_count": 12,
     "metadata": {},
     "output_type": "execute_result"
    },
    {
     "data": {
      "image/png": "[encoded data removed]",
      "text/plain": [
       "<Figure size 640x480 with 1 Axes>"
      ]
     },
     "metadata": {},
     "output_type": "display_data"
    }
   ],
   "source": [
    "plt.plot([e_NN, e_CO, e_BF])"
   ]
  },
  {
   "cell_type": "code",
   "execution_count": 13,
   "metadata": {},
   "outputs": [],
   "source": [
    "def d_Z_lambda(mol_i, mol_f,lam):\n",
    "    Z_i = np.array(mol_i.atom_charges())\n",
    "    Z_f = np.array(mol_f.atom_charges())\n",
    "    e = 7/3\n",
    "    num = (3/7)* (Z_f**e - Z_i**e)\n",
    "    den = ((Z_i**e) + lam*(Z_f**e - Z_i**e))**(4/7)\n",
    "    return num / den\n",
    "\n",
    "def Z_diff(mol_i, mol_f):\n",
    "    Z_i = np.array(mol_i.atom_charges())\n",
    "    Z_f = np.array(mol_f.atom_charges())\n",
    "    return Z_f - Z_i"
   ]
  },
  {
   "attachments": {},
   "cell_type": "markdown",
   "metadata": {},
   "source": [
    "### Gradients from NN to CO and BF"
   ]
  },
  {
   "cell_type": "code",
   "execution_count": 14,
   "metadata": {},
   "outputs": [],
   "source": [
    "# Evaluating the linearized energy gradient at lambda = 0\n",
    "lam = 0\n",
    "\n",
    "ap_NN=AP(mol_NN,sites=[0,1])\n",
    "AG_NN = ap_NN.build_gradient()  - np.array([NN.atom_charges()[1],NN.atom_charges()[0]]) / d \n",
    "\n",
    "# calculating linear and non-linear energy gradients\n",
    "nl_grad_NN_to_CO = round(np.dot(Z_diff(NN, CO), AG_NN),3)\n",
    "l_grad_NN_to_CO = round(np.dot(d_Z_lambda(NN,CO,lam), AG_NN),3)\n",
    "\n",
    "nl_grad_NN_to_BF = round(np.dot(Z_diff(NN, BF), AG_NN),3)\n",
    "l_grad_NN_to_BF = round(np.dot(d_Z_lambda(NN,BF,lam), AG_NN),3)"
   ]
  },
  {
   "cell_type": "code",
   "execution_count": 15,
   "metadata": {},
   "outputs": [
    {
     "data": {
      "text/plain": [
       "-136.8681760876302"
      ]
     },
     "execution_count": 15,
     "metadata": {},
     "output_type": "execute_result"
    }
   ],
   "source": [
    "A_N1  = AG_NN[0]*3/7*7**(-4/3)\n",
    "E_CO_pred = e_NN + A_N1*( 6**(7/3)+8**(7/3)-2*7**(7/3))\n",
    "E_CO_pred"
   ]
  },
  {
   "attachments": {},
   "cell_type": "markdown",
   "metadata": {},
   "source": []
  },
  {
   "attachments": {},
   "cell_type": "markdown",
   "metadata": {},
   "source": [
    "### Gradients from CO to NN and BF"
   ]
  },
  {
   "cell_type": "code",
   "execution_count": 16,
   "metadata": {},
   "outputs": [],
   "source": [
    "# Evaluating the linearized energy gradient at lambda = 0\n",
    "lam = 0\n",
    "\n",
    "ap_CO=AP(mol_CO,sites=[0,1])\n",
    "AG_CO = ap_CO.build_gradient() - np.array([CO.atom_charges()[1],CO.atom_charges()[0]]) / d \n",
    "\n",
    "# calculating linear and non-linear energy gradients\n",
    "nl_grad_CO_to_NN = round(np.dot(Z_diff(CO, NN), AG_CO),3)\n",
    "l_grad_CO_to_NN = round(np.dot(d_Z_lambda(CO,NN,lam), AG_CO),3)\n",
    "\n",
    "nl_grad_CO_to_BF = round(np.dot(Z_diff(CO, BF), AG_CO),3)\n",
    "l_grad_CO_to_BF = round(np.dot(d_Z_lambda(CO,BF,lam), AG_CO),3)"
   ]
  },
  {
   "cell_type": "code",
   "execution_count": 17,
   "metadata": {},
   "outputs": [
    {
     "name": "stdout",
     "output_type": "stream",
     "text": [
      "-129.47 -142.6\n"
     ]
    }
   ],
   "source": [
    "'''\n",
    "Making predictions of NN and BF from CO using the non-lin\n",
    "'''\n",
    "NN_p = e_CO + nl_grad_CO_to_NN\n",
    "BF_p = e_CO + nl_grad_CO_to_BF\n",
    "print(NN_p, BF_p)\n"
   ]
  },
  {
   "cell_type": "code",
   "execution_count": 18,
   "metadata": {},
   "outputs": [
    {
     "data": {
      "text/plain": [
       "(6.565, 2.407, -6.565, -10.704)"
      ]
     },
     "execution_count": 18,
     "metadata": {},
     "output_type": "execute_result"
    }
   ],
   "source": [
    "nl_grad_CO_to_NN, l_grad_CO_to_NN, nl_grad_CO_to_BF, l_grad_CO_to_BF"
   ]
  },
  {
   "attachments": {},
   "cell_type": "markdown",
   "metadata": {},
   "source": [
    "### Gradients from BF to CO and NN"
   ]
  },
  {
   "cell_type": "code",
   "execution_count": 19,
   "metadata": {},
   "outputs": [],
   "source": [
    "# Evaluating the linearized energy gradient at lambda = 0\n",
    "lam = 0\n",
    "\n",
    "ap_BF=AP(mol_BF,sites=[0,1])\n",
    "AG_BF = ap_BF.build_gradient() - np.array([BF.atom_charges()[1],BF.atom_charges()[0]]) / d \n",
    "\n",
    "# calculating linear and non-linear energy gradients\n",
    "nl_grad_BF_to_NN = round(np.dot(Z_diff(BF, NN), AG_BF),3)\n",
    "l_grad_BF_to_NN = round(np.dot(d_Z_lambda(BF,NN,lam), AG_BF),3)\n",
    "\n",
    "nl_grad_BF_to_CO = round(np.dot(Z_diff(BF, CO), AG_BF),3)\n",
    "l_grad_BF_to_CO = round(np.dot(d_Z_lambda(BF,CO,lam), AG_BF),3)"
   ]
  },
  {
   "cell_type": "code",
   "execution_count": 20,
   "metadata": {},
   "outputs": [
    {
     "name": "stdout",
     "output_type": "stream",
     "text": [
      "-110.024 -123.029\n"
     ]
    }
   ],
   "source": [
    "NN_p = e_CO + nl_grad_BF_to_NN\n",
    "CO_p = e_CO + nl_grad_BF_to_CO\n",
    "print(NN_p, CO_p)"
   ]
  },
  {
   "cell_type": "code",
   "execution_count": 21,
   "metadata": {},
   "outputs": [],
   "source": [
    "nl_grads= np.array([nl_grad_CO_to_NN, nl_grad_CO_to_BF,\n",
    "                    nl_grad_BF_to_NN, nl_grad_BF_to_CO])\n",
    "\n",
    "l_grads= np.array([l_grad_CO_to_NN, l_grad_CO_to_BF,\n",
    "                    l_grad_BF_to_NN, l_grad_BF_to_CO])\n",
    "\n",
    "# nl_grads = np.append(nl_grads,[nl_grad_NN_to_BF, nl_grad_NN_to_CO])\n",
    "# l_grads = np.append(l_grads,[l_grad_NN_to_BF, l_grad_NN_to_CO])\n"
   ]
  },
  {
   "attachments": {},
   "cell_type": "markdown",
   "metadata": {},
   "source": [
    "## getting average linearizing coeffecient = ratio of nl_grad to l_grad"
   ]
  },
  {
   "cell_type": "code",
   "execution_count": 22,
   "metadata": {},
   "outputs": [],
   "source": [
    "C = np.mean(l_grads / nl_grads)"
   ]
  },
  {
   "cell_type": "code",
   "execution_count": 23,
   "metadata": {},
   "outputs": [],
   "source": [
    "NN_pred = ['NN','-', e_NN + C *nl_grad_NN_to_CO ,  e_NN + C *nl_grad_NN_to_BF]\n",
    "CO_pred = ['CO',e_CO + C *nl_grad_CO_to_NN,'-' ,  e_CO + C *nl_grad_CO_to_BF]\n",
    "BF_pred = ['BF',e_BF + C *nl_grad_BF_to_NN,e_BF + C *nl_grad_BF_to_CO,'-' ]\n",
    "\n",
    "# finding nl_E predictions\n",
    "# NN_pred = \n"
   ]
  },
  {
   "cell_type": "code",
   "execution_count": 24,
   "metadata": {},
   "outputs": [
    {
     "name": "stdout",
     "output_type": "stream",
     "text": [
      "Using average of linearizing coeffecient at CO and BF\n",
      "\n",
      "| From \\ To | NN                 | CO                  | BF                 |\n",
      "| --------- | ------------------ | ------------------- | ------------------ |\n",
      "| NN        | -                  | -132.748            | -132.748           |\n",
      "| CO        | -131.0918757706635 | -                   | -140.9781242293365 |\n",
      "| BF        | -126.2519879163334 | -136.04411748259707 | -                  |\n",
      "\n",
      "NN actual energy = -132.748, \n",
      "CO actual energy = -136.035, \n",
      "BF actual energy = -145.837, \n",
      "\n"
     ]
    }
   ],
   "source": [
    "# Example usage\n",
    "data = [\n",
    "    ['From \\ To', 'NN', 'CO','BF'],\n",
    "    ['NN','-', e_NN + C *nl_grad_NN_to_CO ,  e_NN + C *nl_grad_NN_to_BF],\n",
    "    ['CO',e_CO + C *nl_grad_CO_to_NN,'-' ,  e_CO + C *nl_grad_CO_to_BF],\n",
    "    ['BF',e_BF + C *nl_grad_BF_to_NN,e_BF + C *nl_grad_BF_to_CO,'-' ]\n",
    "]\n",
    "table = generate_table(data)\n",
    "print('Using average of linearizing coeffecient at CO and BF')\n",
    "print()\n",
    "print(table)\n",
    "print(f'NN actual energy = {e_NN}, \\nCO actual energy = {e_CO}, \\nBF actual energy = {e_BF}, \\n')"
   ]
  },
  {
   "cell_type": "code",
   "execution_count": 25,
   "metadata": {},
   "outputs": [
    {
     "name": "stdout",
     "output_type": "stream",
     "text": [
      "Predictions from CO and BF just using non-linear energy gradient\n",
      "\n",
      "| From \\ To | NN       | err    | CO       | err   | BF     | err   |\n",
      "| --------- | -------- | ------ | -------- | ----- | ------ | ----- |\n",
      "| CO        | -129.47  | 3.278  | -        | -     | -142.6 | 3.237 |\n",
      "| BF        | -119.826 | 12.922 | -132.831 | 3.204 | -      | -     |\n",
      "\n",
      "NN actual energy = -132.748, \n",
      "CO actual energy = -136.035, \n",
      "BF actual energy = -145.837, \n",
      "\n"
     ]
    }
   ],
   "source": [
    "print('Predictions from CO and BF just using non-linear energy gradient')\n",
    "print()\n",
    "data = [\n",
    "    ['From \\ To', 'NN','err','CO','err','BF','err'],\n",
    "    ['CO',e_CO + nl_grad_CO_to_NN,round(e_CO + nl_grad_CO_to_NN - e_NN,3),'-','-', e_CO + nl_grad_CO_to_BF,round(e_CO + nl_grad_CO_to_BF-e_BF,3)],\n",
    "    ['BF',e_BF + nl_grad_BF_to_NN,round(e_BF + nl_grad_BF_to_NN - e_NN,3),e_BF + nl_grad_BF_to_CO,round(e_BF + nl_grad_BF_to_CO - e_CO,3),'-','-' ]\n",
    "]\n",
    "table = generate_table(data)\n",
    "print(table)\n",
    "print(f'NN actual energy = {e_NN}, \\nCO actual energy = {e_CO}, \\nBF actual energy = {e_BF}, \\n')"
   ]
  },
  {
   "cell_type": "code",
   "execution_count": 28,
   "metadata": {},
   "outputs": [
    {
     "name": "stdout",
     "output_type": "stream",
     "text": [
      "Prediction of energies via the Hessian\n",
      "\n",
      "| Mol \\ Method | Actual (PBE; unc-ccpvdz with RKS) | Hessian from paper | Descrepency |\n",
      "| ------------ | --------------------------------- | ------------------ | ----------- |\n",
      "| NN           | -132.748                          | -132.748           | 0.0         |\n",
      "| CO           | -136.035                          | -139.139           | 3.104       |\n",
      "| BF           | -145.837                          | -158.312           | 12.475      |\n",
      "\n"
     ]
    }
   ],
   "source": [
    "'''Using Hessian'''\n",
    "# modelling ax^2 + bx + c\n",
    "a = -0.139 - 2 * 3.126\n",
    "b = 0\n",
    "c = -132.748\n",
    "def app(l):\n",
    "    return round(a*l**2 + b*l + c,3)\n",
    "\n",
    "print('Prediction of energies via the Hessian')\n",
    "print()\n",
    "data = [['Mol \\ Method', 'Actual (PBE; unc-ccpvdz with RKS)','Hessian from paper','Descrepency'],\n",
    "        [\n",
    "            'NN',e_NN, app(0),e_NN-app(0), \n",
    "        ],\n",
    "         [\n",
    "            'CO',e_CO, app(1),round(e_CO-app(1),3), \n",
    "        ],\n",
    "          [\n",
    "            'BF',e_BF, app(2),round(e_BF-app(2),3), \n",
    "        ]\n",
    "        \n",
    "        ]\n",
    "table = generate_table(data)\n",
    "print(table)"
   ]
  },
  {
   "attachments": {},
   "cell_type": "markdown",
   "metadata": {},
   "source": []
  }
 ],
 "metadata": {
  "kernelspec": {
   "display_name": "Python 3 (ipykernel)",
   "language": "python",
   "name": "python3"
  },
  "language_info": {
   "codemirror_mode": {
    "name": "ipython",
    "version": 3
   },
   "file_extension": ".py",
   "mimetype": "text/x-python",
   "name": "python",
   "nbconvert_exporter": "python",
   "pygments_lexer": "ipython3",
   "version": "3.10.4"
  },
  "vp": {
   "vp_config_version": "1.0.0",
   "vp_menu_width": 273,
   "vp_note_display": false,
   "vp_note_width": 0,
   "vp_position": {
    "width": 278
   },
   "vp_section_display": false,
   "vp_signature": "VisualPython"
  }
 },
 "nbformat": 4,
 "nbformat_minor": 2
}
