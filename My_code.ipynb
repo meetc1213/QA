{
 "cells": [
  {
   "cell_type": "code",
   "execution_count": null,
   "metadata": {},
   "outputs": [],
   "source": [
    "'''\n",
    "Credit goes to Mr. Georgio for creating the very helpful modules used in this file.\n",
    "'''"
   ]
  },
  {
   "cell_type": "code",
   "execution_count": 2,
   "metadata": {},
   "outputs": [],
   "source": [
    "from pyscf import gto,scf\n",
    "import numpy as np\n",
    "import pyscf\n",
    "import matplotlib.pyplot as plt\n",
    "import basis_set_exchange as bse\n",
    "from FcMole import FcM, FcM_like\n",
    "def generate_table(data):\n",
    "    # Determine the maximum width of each column\n",
    "    column_widths = [max(len(str(row[i])) for row in data) for i in range(len(data[0]))]\n",
    "\n",
    "    # Generate the table header\n",
    "    table = generate_table_row(data[0], column_widths)\n",
    "    table += generate_table_row(['-' * width for width in column_widths], column_widths)\n",
    "\n",
    "    # Generate the table rows\n",
    "    for row in data[1:]:\n",
    "        table += generate_table_row(row, column_widths)\n",
    "\n",
    "    return table\n",
    "\n",
    "def generate_table_row(row_data, column_widths):\n",
    "    row = '|'\n",
    "    for i, item in enumerate(row_data):\n",
    "        row += f' {str(item):{column_widths[i]}} |'\n",
    "    row += '\\n'\n",
    "    return row"
   ]
  },
  {
   "cell_type": "code",
   "execution_count": 3,
   "metadata": {},
   "outputs": [],
   "source": [
    "%load_ext autoreload\n",
    "%autoreload 2\n",
    "from AP_class import APDFT_perturbator as AP"
   ]
  },
  {
   "attachments": {},
   "cell_type": "markdown",
   "metadata": {},
   "source": [
    "#### Verifying electronic energy curve"
   ]
  },
  {
   "cell_type": "code",
   "execution_count": 4,
   "metadata": {},
   "outputs": [],
   "source": [
    "# def calc_elec_energy(separation):\n",
    "#     mol = gto.M(atom= f\"N 0 0 0; N 0 0 {separation}\",unit=\"Bohr\",basis=bse.get_basis('pcX-2',fmt=\"nwchem\",elements=[5,6,7,8,9]))\n",
    "#     mol_conv= scf.RHF(mol)\n",
    "#     return mol_conv.scf(dm0=mol_conv.init_guess_by_1e()) - 7*7/separation"
   ]
  },
  {
   "cell_type": "code",
   "execution_count": 5,
   "metadata": {},
   "outputs": [],
   "source": [
    "# x = 0\n",
    "# distances = []\n",
    "# energies = []\n",
    "# while x < 3:\n",
    "#     distances.append(x)\n",
    "#     energies.append(calc_elec_energy(x))\n",
    "#     x+= 0.3\n",
    "# plt.plot(distances, energies)"
   ]
  },
  {
   "attachments": {},
   "cell_type": "markdown",
   "metadata": {},
   "source": [
    "### Defining my molecules"
   ]
  },
  {
   "cell_type": "code",
   "execution_count": 7,
   "metadata": {},
   "outputs": [
    {
     "ename": "KeyError",
     "evalue": "'Basis set unc-ccpvdz does not exist'",
     "output_type": "error",
     "traceback": [
      "\u001b[0;31m---------------------------------------------------------------------------\u001b[0m",
      "\u001b[0;31mKeyError\u001b[0m                                  Traceback (most recent call last)",
      "\u001b[1;32m/Users/meet/Desktop/Courses/Research/Chem/Code/C/Alechemical Gradients/My_code.ipynb Cell 8\u001b[0m in \u001b[0;36m2\n\u001b[1;32m      <a href='vscode-notebook-cell:/Users/meet/Desktop/Courses/Research/Chem/Code/C/Alechemical%20Gradients/My_code.ipynb#X10sZmlsZQ%3D%3D?line=0'>1</a>\u001b[0m d \u001b[39m=\u001b[39m \u001b[39m2.1\u001b[39m\n\u001b[0;32m----> <a href='vscode-notebook-cell:/Users/meet/Desktop/Courses/Research/Chem/Code/C/Alechemical%20Gradients/My_code.ipynb#X10sZmlsZQ%3D%3D?line=1'>2</a>\u001b[0m NN \u001b[39m=\u001b[39m gto\u001b[39m.\u001b[39mM(atom\u001b[39m=\u001b[39m \u001b[39mf\u001b[39m\u001b[39m\"\u001b[39m\u001b[39mN 0 0 0; N 0 0 \u001b[39m\u001b[39m{\u001b[39;00md\u001b[39m}\u001b[39;00m\u001b[39m\"\u001b[39m,unit\u001b[39m=\u001b[39m\u001b[39m\"\u001b[39m\u001b[39mBohr\u001b[39m\u001b[39m\"\u001b[39m,basis\u001b[39m=\u001b[39mbse\u001b[39m.\u001b[39mget_basis(\u001b[39m'\u001b[39m\u001b[39munc-ccpvdz\u001b[39m\u001b[39m'\u001b[39m,fmt\u001b[39m=\u001b[39m\u001b[39m'\u001b[39m\u001b[39mguassian09\u001b[39m\u001b[39m'\u001b[39m, elements\u001b[39m=\u001b[39m[\u001b[39m5\u001b[39m,\u001b[39m6\u001b[39m,\u001b[39m7\u001b[39m,\u001b[39m8\u001b[39m]))\n\u001b[1;32m      <a href='vscode-notebook-cell:/Users/meet/Desktop/Courses/Research/Chem/Code/C/Alechemical%20Gradients/My_code.ipynb#X10sZmlsZQ%3D%3D?line=2'>3</a>\u001b[0m CO \u001b[39m=\u001b[39m FcM_like(NN,fcs\u001b[39m=\u001b[39m[\u001b[39m-\u001b[39m\u001b[39m1\u001b[39m,\u001b[39m1\u001b[39m])\n\u001b[1;32m      <a href='vscode-notebook-cell:/Users/meet/Desktop/Courses/Research/Chem/Code/C/Alechemical%20Gradients/My_code.ipynb#X10sZmlsZQ%3D%3D?line=3'>4</a>\u001b[0m BF \u001b[39m=\u001b[39m FcM_like(NN,fcs\u001b[39m=\u001b[39m[\u001b[39m-\u001b[39m\u001b[39m2\u001b[39m,\u001b[39m2\u001b[39m])\n",
      "File \u001b[0;32m/Library/Frameworks/Python.framework/Versions/3.10/lib/python3.10/site-packages/basis_set_exchange/api.py:185\u001b[0m, in \u001b[0;36mget_basis\u001b[0;34m(name, elements, version, fmt, uncontract_general, uncontract_spdf, uncontract_segmented, remove_free_primitives, make_general, optimize_general, augment_diffuse, augment_steep, get_aux, data_dir, header)\u001b[0m\n\u001b[1;32m    108\u001b[0m \u001b[39m'''Obtain a basis set\u001b[39;00m\n\u001b[1;32m    109\u001b[0m \n\u001b[1;32m    110\u001b[0m \u001b[39mThis is the main function for getting basis set information.\u001b[39;00m\n\u001b[0;32m   (...)\u001b[0m\n\u001b[1;32m    181\u001b[0m \n\u001b[1;32m    182\u001b[0m \u001b[39m'''\u001b[39;00m\n\u001b[1;32m    184\u001b[0m data_dir \u001b[39m=\u001b[39m fix_data_dir(data_dir)\n\u001b[0;32m--> 185\u001b[0m bs_data \u001b[39m=\u001b[39m _get_basis_metadata(name, data_dir)\n\u001b[1;32m    187\u001b[0m \u001b[39m# If version is not specified, use the latest\u001b[39;00m\n\u001b[1;32m    188\u001b[0m \u001b[39mif\u001b[39;00m version \u001b[39mis\u001b[39;00m \u001b[39mNone\u001b[39;00m:\n",
      "File \u001b[0;32m/Library/Frameworks/Python.framework/Versions/3.10/lib/python3.10/site-packages/basis_set_exchange/api.py:56\u001b[0m, in \u001b[0;36m_get_basis_metadata\u001b[0;34m(name, data_dir)\u001b[0m\n\u001b[1;32m     53\u001b[0m metadata \u001b[39m=\u001b[39m get_metadata(data_dir)\n\u001b[1;32m     55\u001b[0m \u001b[39mif\u001b[39;00m tr_name \u001b[39mnot\u001b[39;00m \u001b[39min\u001b[39;00m metadata:\n\u001b[0;32m---> 56\u001b[0m     \u001b[39mraise\u001b[39;00m \u001b[39mKeyError\u001b[39;00m(\u001b[39m\"\u001b[39m\u001b[39mBasis set \u001b[39m\u001b[39m{}\u001b[39;00m\u001b[39m does not exist\u001b[39m\u001b[39m\"\u001b[39m\u001b[39m.\u001b[39mformat(name))\n\u001b[1;32m     58\u001b[0m \u001b[39mreturn\u001b[39;00m metadata[tr_name]\n",
      "\u001b[0;31mKeyError\u001b[0m: 'Basis set unc-ccpvdz does not exist'"
     ]
    }
   ],
   "source": [
    "d = 2.1\n",
    "NN = gto.M(atom= f\"N 0 0 0; N 0 0 {d}\",unit=\"Bohr\",basis=bse.get_basis('unc-ccpvdz',fmt='guassian09', elements=[5,6,7,8]))\n",
    "CO = FcM_like(NN,fcs=[-1,1])\n",
    "BF = FcM_like(NN,fcs=[-2,2])\n",
    "mol_NN = scf.RHF(NN)\n",
    "mol_CO= scf.RHF(CO)\n",
    "mol_BF= scf.RHF(BF)\n",
    "\n",
    "Te_NN=mol_NN.scf(dm0=mol_NN.init_guess_by_1e())\n",
    "Te_CO=mol_CO.scf(dm0=mol_CO.init_guess_by_1e())\n",
    "Te_BF=mol_BF.scf(dm0=mol_BF.init_guess_by_1e())"
   ]
  },
  {
   "cell_type": "code",
   "execution_count": null,
   "metadata": {},
   "outputs": [
    {
     "name": "stdout",
     "output_type": "stream",
     "text": [
      "-132.2850419029842 -133.76761842584608 -138.63212532845867\n"
     ]
    }
   ],
   "source": [
    "# Subtracting nuclear repulsion from total energy to calculate total electronic energy\n",
    "e_NN = Te_NN - np.prod(NN.atom_charges()) / d\n",
    "e_CO = Te_CO - np.prod(CO.atom_charges()) / d\n",
    "e_BF = Te_BF - np.prod(BF.atom_charges()) / d\n",
    "print(e_NN, e_CO, e_BF)"
   ]
  },
  {
   "cell_type": "code",
   "execution_count": null,
   "metadata": {},
   "outputs": [],
   "source": []
  },
  {
   "attachments": {},
   "cell_type": "markdown",
   "metadata": {},
   "source": [
    "## Calculating their energies"
   ]
  },
  {
   "cell_type": "code",
   "execution_count": 247,
   "metadata": {},
   "outputs": [
    {
     "data": {
      "text/plain": [
       "[<matplotlib.lines.Line2D at 0x157674c10>]"
      ]
     },
     "execution_count": 247,
     "metadata": {},
     "output_type": "execute_result"
    },
    {
     "data": {
      "image/png": "[encoded data removed]",
      "text/plain": [
       "<Figure size 640x480 with 1 Axes>"
      ]
     },
     "metadata": {},
     "output_type": "display_data"
    }
   ],
   "source": [
    "plt.plot([e_NN, e_CO, e_BF])"
   ]
  },
  {
   "cell_type": "code",
   "execution_count": 248,
   "metadata": {},
   "outputs": [],
   "source": [
    "def d_Z_lambda(mol_i, mol_f,lam):\n",
    "    Z_i = np.array(mol_i.atom_charges())\n",
    "    Z_f = np.array(mol_f.atom_charges())\n",
    "    e = 7/3\n",
    "    num = (3/7)* (Z_f**e - Z_i**e)\n",
    "    den = ((Z_i**e) + lam*(Z_f**e - Z_i**e))**(4/7)\n",
    "    return num / den\n",
    "\n",
    "def Z_diff(mol_i, mol_f):\n",
    "    Z_i = np.array(mol_i.atom_charges())\n",
    "    Z_f = np.array(mol_f.atom_charges())\n",
    "    return Z_f - Z_i"
   ]
  },
  {
   "attachments": {},
   "cell_type": "markdown",
   "metadata": {},
   "source": [
    "### Gradients from NN to CO and BF"
   ]
  },
  {
   "cell_type": "code",
   "execution_count": 249,
   "metadata": {},
   "outputs": [],
   "source": [
    "# Evaluating the linearized energy gradient at lambda = 0\n",
    "lam = 0\n",
    "\n",
    "ap_NN=AP(mol_NN,sites=[0,1])\n",
    "AG_NN = ap_NN.build_gradient()  - np.array([NN.atom_charges()[1],NN.atom_charges()[0]]) / d \n",
    "\n",
    "# calculating linear and non-linear energy gradients\n",
    "nl_grad_NN_to_CO = np.dot(Z_diff(NN, CO), AG_NN)\n",
    "l_grad_NN_to_CO = np.dot(d_Z_lambda(NN,CO,lam), AG_NN)\n",
    "\n",
    "nl_grad_NN_to_BF = np.dot(Z_diff(NN, BF), AG_NN)\n",
    "l_grad_NN_to_BF = np.dot(d_Z_lambda(NN,BF,lam), AG_NN)"
   ]
  },
  {
   "cell_type": "code",
   "execution_count": null,
   "metadata": {},
   "outputs": [],
   "source": []
  },
  {
   "attachments": {},
   "cell_type": "markdown",
   "metadata": {},
   "source": []
  },
  {
   "attachments": {},
   "cell_type": "markdown",
   "metadata": {},
   "source": [
    "### Gradients from CO to NN and BF"
   ]
  },
  {
   "cell_type": "code",
   "execution_count": 250,
   "metadata": {},
   "outputs": [],
   "source": [
    "# Evaluating the linearized energy gradient at lambda = 0\n",
    "lam = 0\n",
    "\n",
    "ap_CO=AP(mol_CO,sites=[0,1])\n",
    "AG_CO = ap_CO.build_gradient() - np.array([CO.atom_charges()[1],CO.atom_charges()[0]]) / d \n",
    "\n",
    "# calculating linear and non-linear energy gradients\n",
    "nl_grad_CO_to_NN = np.dot(Z_diff(CO, NN), AG_CO)\n",
    "l_grad_CO_to_NN = np.dot(d_Z_lambda(CO,NN,lam), AG_CO)\n",
    "\n",
    "nl_grad_CO_to_BF = np.dot(Z_diff(CO, BF), AG_CO)\n",
    "l_grad_CO_to_BF = np.dot(d_Z_lambda(CO,BF,lam), AG_CO)"
   ]
  },
  {
   "cell_type": "code",
   "execution_count": 251,
   "metadata": {},
   "outputs": [
    {
     "data": {
      "text/plain": [
       "array([-20.00310304, -23.02708374])"
      ]
     },
     "execution_count": 251,
     "metadata": {},
     "output_type": "execute_result"
    }
   ],
   "source": [
    "AG_CO"
   ]
  },
  {
   "cell_type": "code",
   "execution_count": 252,
   "metadata": {},
   "outputs": [
    {
     "data": {
      "text/plain": [
       "(3.023980699739141,\n",
       " -1.1303530154854458,\n",
       " -3.023980699739141,\n",
       " -7.149219129863054)"
      ]
     },
     "execution_count": 252,
     "metadata": {},
     "output_type": "execute_result"
    }
   ],
   "source": [
    "nl_grad_CO_to_NN, l_grad_CO_to_NN, nl_grad_CO_to_BF, l_grad_CO_to_BF"
   ]
  },
  {
   "attachments": {},
   "cell_type": "markdown",
   "metadata": {},
   "source": [
    "### Gradients from BF to CO and NN"
   ]
  },
  {
   "cell_type": "code",
   "execution_count": 253,
   "metadata": {},
   "outputs": [],
   "source": [
    "# Evaluating the linearized energy gradient at lambda = 0\n",
    "lam = 0\n",
    "\n",
    "ap_BF=AP(mol_BF,sites=[0,1])\n",
    "AG_BF = ap_BF.build_gradient() - np.array([BF.atom_charges()[1],BF.atom_charges()[0]]) / d \n",
    "\n",
    "# calculating linear and non-linear energy gradients\n",
    "nl_grad_BF_to_NN = np.dot(Z_diff(BF, NN), AG_BF)\n",
    "l_grad_BF_to_NN = np.dot(d_Z_lambda(BF,NN,lam), AG_BF)\n",
    "\n",
    "nl_grad_BF_to_CO = np.dot(Z_diff(BF, CO), AG_BF)\n",
    "l_grad_BF_to_CO = np.dot(d_Z_lambda(BF,CO,lam), AG_BF)"
   ]
  },
  {
   "cell_type": "code",
   "execution_count": 254,
   "metadata": {},
   "outputs": [
    {
     "data": {
      "text/plain": [
       "(13.917192879015317, -2.7584204134583654, 6.958596439507659, 2.813085654368475)"
      ]
     },
     "execution_count": 254,
     "metadata": {},
     "output_type": "execute_result"
    }
   ],
   "source": [
    "nl_grad_BF_to_NN, l_grad_BF_to_NN, nl_grad_BF_to_CO, l_grad_BF_to_CO"
   ]
  },
  {
   "cell_type": "code",
   "execution_count": 255,
   "metadata": {},
   "outputs": [],
   "source": [
    "nl_grads= np.array([nl_grad_CO_to_NN, nl_grad_CO_to_BF,\n",
    "                    nl_grad_BF_to_NN, nl_grad_BF_to_CO])\n",
    "\n",
    "l_grads= np.array([l_grad_CO_to_NN, l_grad_CO_to_BF,\n",
    "                    l_grad_BF_to_NN, l_grad_BF_to_CO])\n",
    "\n",
    "# nl_grads = np.append(nl_grads,[nl_grad_NN_to_BF, nl_grad_NN_to_CO])\n",
    "# l_grads = np.append(l_grads,[l_grad_NN_to_BF, l_grad_NN_to_CO])\n"
   ]
  },
  {
   "attachments": {},
   "cell_type": "markdown",
   "metadata": {},
   "source": [
    "## getting average linearizing coeffecient = ratio of nl_grad to l_grad"
   ]
  },
  {
   "cell_type": "code",
   "execution_count": 256,
   "metadata": {},
   "outputs": [],
   "source": [
    "C = np.mean(l_grads / nl_grads)"
   ]
  },
  {
   "cell_type": "code",
   "execution_count": 260,
   "metadata": {},
   "outputs": [],
   "source": [
    "NN_pred = ['NN','-', e_NN + C *nl_grad_NN_to_CO ,  e_NN + C *nl_grad_NN_to_BF]\n",
    "CO_pred = ['CO',e_CO + C *nl_grad_CO_to_NN,'-' ,  e_CO + C *nl_grad_CO_to_BF]\n",
    "BF_pred = ['BF',e_BF + C *nl_grad_BF_to_NN,e_BF + C *nl_grad_BF_to_CO,'-' ]\n",
    "\n",
    "# finding nl_E predictions\n",
    "# NN_pred = \n"
   ]
  },
  {
   "cell_type": "code",
   "execution_count": 261,
   "metadata": {},
   "outputs": [
    {
     "name": "stdout",
     "output_type": "stream",
     "text": [
      "| From \\ To | NN                  | CO                  | BF                  |\n",
      "| --------- | ------------------- | ------------------- | ------------------- |\n",
      "| NN        | -                   | -132.28504190298432 | -132.28504190298443 |\n",
      "| CO        | -132.1071229367535  | -                   | -135.42811391493865 |\n",
      "| BF        | -130.99006729600177 | -134.8110963122302  | -                   |\n",
      "\n",
      "NN actual energy = -132.2850419029842, \n",
      "CO actual energy = -133.76761842584608, \n",
      "BF actual energy = -138.63212532845867, \n",
      "\n"
     ]
    }
   ],
   "source": [
    "# Example usage\n",
    "data = [\n",
    "    ['From \\ To', 'NN', 'CO','BF'],\n",
    "    ['NN','-', e_NN + C *nl_grad_NN_to_CO ,  e_NN + C *nl_grad_NN_to_BF],\n",
    "    ['CO',e_CO + C *nl_grad_CO_to_NN,'-' ,  e_CO + C *nl_grad_CO_to_BF],\n",
    "    ['BF',e_BF + C *nl_grad_BF_to_NN,e_BF + C *nl_grad_BF_to_CO,'-' ]\n",
    "]\n",
    "table = generate_table(data)\n",
    "\n",
    "print(table)\n",
    "print(f'NN actual energy = {e_NN}, \\nCO actual energy = {e_CO}, \\nBF actual energy = {e_BF}, \\n')"
   ]
  },
  {
   "attachments": {
    "image.png": {
     "image/png": "[encoded data removed]"
    }
   },
   "cell_type": "markdown",
   "metadata": {},
   "source": [
    "### Without using N2 gradients\n",
    "![image.png](attachment:image.png)"
   ]
  },
  {
   "cell_type": "code",
   "execution_count": 279,
   "metadata": {},
   "outputs": [],
   "source": [
    "#!/usr/bin/env python\n",
    "import os\n",
    "import numpy\n",
    "from pyscf import gto\n",
    "\n",
    "mol = gto.M(\n",
    "    atom = '''N 0 0 0; N 0 0 2''',\n",
    "    basis = \n",
    "    {'N': 'unc-ccpvdz', # prefix \"unc-\" will uncontract the ccpvdz basis.\n",
    "                                # It is equivalent to assigning\n",
    "                                #   'O': gto.uncontract(gto.load('ccpvdz', 'O')),\n",
    "             'H': 'unc-ccpvdz'  # H1 H2 will use the same basis ccpvdz\n",
    "            }\n",
    ")"
   ]
  },
  {
   "attachments": {},
   "cell_type": "markdown",
   "metadata": {},
   "source": []
  }
 ],
 "metadata": {
  "kernelspec": {
   "display_name": "Python 3 (ipykernel)",
   "language": "python",
   "name": "python3"
  },
  "language_info": {
   "codemirror_mode": {
    "name": "ipython",
    "version": 3
   },
   "file_extension": ".py",
   "mimetype": "text/x-python",
   "name": "python",
   "nbconvert_exporter": "python",
   "pygments_lexer": "ipython3",
   "version": "3.10.4"
  },
  "vp": {
   "vp_config_version": "1.0.0",
   "vp_menu_width": 273,
   "vp_note_display": false,
   "vp_note_width": 0,
   "vp_position": {
    "width": 278
   },
   "vp_section_display": false,
   "vp_signature": "VisualPython"
  }
 },
 "nbformat": 4,
 "nbformat_minor": 2
}
