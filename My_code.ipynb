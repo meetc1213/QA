{
 "cells": [
  {
   "cell_type": "code",
   "execution_count": 2,
   "metadata": {},
   "outputs": [
    {
     "data": {
      "text/plain": [
       "'\\nCredit goes to Mr. Georgio for creating the very helpful modules used in this file.\\n'"
      ]
     },
     "execution_count": 2,
     "metadata": {},
     "output_type": "execute_result"
    }
   ],
   "source": [
    "'''\n",
    "Credit goes to Mr. Georgio for creating the very helpful modules used in this file.\n",
    "'''"
   ]
  },
  {
   "attachments": {},
   "cell_type": "markdown",
   "metadata": {},
   "source": [
    "### Imports and table functions"
   ]
  },
  {
   "cell_type": "code",
   "execution_count": 83,
   "metadata": {},
   "outputs": [],
   "source": [
    "from pyscf import gto,scf, cc\n",
    "import numpy as np\n",
    "import pyscf\n",
    "import matplotlib.pyplot as plt\n",
    "from matplotlib.pyplot import figure\n",
    "import basis_set_exchange as bse\n",
    "from FcMole import FcM, FcM_like\n",
    "from AP_class import APDFT_perturbator as AP\n",
    "from alch_deriv import first_deriv_elec,DeltaV\n",
    "\n",
    "def generate_table(data):\n",
    "    # Determine the maximum width of each column\n",
    "    column_widths = [max(len(str(row[i])) for row in data) for i in range(len(data[0]))]\n",
    "\n",
    "    # Generate the table header\n",
    "    table = generate_table_row(data[0], column_widths)\n",
    "    table += generate_table_row(['-' * width for width in column_widths], column_widths)\n",
    "\n",
    "    # Generate the table rows\n",
    "    for row in data[1:]:\n",
    "        table += generate_table_row(row, column_widths)\n",
    "\n",
    "    return table\n",
    "\n",
    "def generate_table_row(row_data, column_widths):\n",
    "    row = '|'\n",
    "    for i, item in enumerate(row_data):\n",
    "        row += f' {str(item):{column_widths[i]}} |'\n",
    "    row += '\\n'\n",
    "    return row"
   ]
  },
  {
   "attachments": {},
   "cell_type": "markdown",
   "metadata": {},
   "source": [
    "### Defining my molecules"
   ]
  },
  {
   "cell_type": "code",
   "execution_count": 8,
   "metadata": {},
   "outputs": [
    {
     "name": "stdout",
     "output_type": "stream",
     "text": [
      "converged SCF energy = -109.4150800176\n"
     ]
    },
    {
     "name": "stderr",
     "output_type": "stream",
     "text": [
      "/Library/Frameworks/Python.framework/Versions/3.10/lib/python3.10/site-packages/pyscf/gto/mole.py:1213: UserWarning: Function mol.dumps drops attribute with_rinv_at_nucleus because it is not JSON-serializable\n",
      "  warnings.warn(msg)\n"
     ]
    },
    {
     "name": "stdout",
     "output_type": "stream",
     "text": [
      "converged SCF energy = -113.178333785775\n",
      "converged SCF energy = -124.408104202864\n"
     ]
    }
   ],
   "source": [
    "# uncontracted cc-pvdz\n",
    "d = 2.1\n",
    "NN = gto.M(atom= f\"N 0 0 0; N 0 0 {d}\",unit=\"Bohr\",basis='unc-ccpvdz')\n",
    "CO = FcM_like(NN,fcs=[-1,1])\n",
    "BF = FcM_like(NN,fcs=[-2,2])\n",
    "\n",
    "# using PBE0 with RKS\n",
    "mol_NN=scf.RKS(NN)\n",
    "mol_NN.xc=\"PBE0\"\n",
    "mol_CO=scf.RKS(CO)\n",
    "mol_CO.xc=\"PBE0\"\n",
    "mol_BF=scf.RKS(BF)\n",
    "mol_BF.xc=\"PBE0\"\n",
    "\n",
    "Te_NN=mol_NN.scf(dm0=mol_NN.init_guess_by_1e())\n",
    "Te_CO=mol_CO.scf(dm0=mol_CO.init_guess_by_1e())\n",
    "Te_BF=mol_BF.scf(dm0=mol_BF.init_guess_by_1e())"
   ]
  },
  {
   "attachments": {},
   "cell_type": "markdown",
   "metadata": {},
   "source": [
    "## Calculating their electronic energies"
   ]
  },
  {
   "cell_type": "code",
   "execution_count": 62,
   "metadata": {},
   "outputs": [],
   "source": [
    "# Subtracting nuclear repulsion from total energy to calculate total electronic energy\n",
    "e_NN = round(mol_NN.energy_elec()[0],3)\n",
    "e_CO = round(mol_CO.energy_elec()[0],3)\n",
    "e_BF = round(mol_BF.energy_elec()[0],3)"
   ]
  },
  {
   "cell_type": "code",
   "execution_count": 109,
   "metadata": {},
   "outputs": [
    {
     "name": "stderr",
     "output_type": "stream",
     "text": [
      "/Library/Frameworks/Python.framework/Versions/3.10/lib/python3.10/site-packages/pyscf/gto/mole.py:1213: UserWarning: Function mol.dumps drops attribute with_rinv_at_nucleus because it is not JSON-serializable\n",
      "  warnings.warn(msg)\n"
     ]
    },
    {
     "name": "stdout",
     "output_type": "stream",
     "text": [
      "converged SCF energy = -109.4150800176\n",
      "converged SCF energy = -109.452757570023\n",
      "converged SCF energy = -109.565784946101\n",
      "converged SCF energy = -109.754146252607\n",
      "converged SCF energy = -110.017814782656\n",
      "converged SCF energy = -110.356752827961\n",
      "converged SCF energy = -110.77091117081\n",
      "converged SCF energy = -111.260228652498\n",
      "converged SCF energy = -111.824631715731\n",
      "converged SCF energy = -112.464033600153\n",
      "converged SCF energy = -113.178333785775\n",
      "converged SCF energy = -113.96741735301\n",
      "converged SCF energy = -114.831154468183\n",
      "converged SCF energy = -115.769400010321\n",
      "converged SCF energy = -116.78199336107\n",
      "converged SCF energy = -117.868758858288\n",
      "converged SCF energy = -119.029506429788\n",
      "converged SCF energy = -120.264032951723\n",
      "converged SCF energy = -121.572124182821\n",
      "converged SCF energy = -122.953557338955\n",
      "converged SCF energy = -124.408104202864\n",
      "converged SCF energy = -125.935534658558\n",
      "converged SCF energy = -127.535620485508\n",
      "converged SCF energy = -129.20813921929\n",
      "converged SCF energy = -130.952877864881\n",
      "converged SCF energy = -132.769636395303\n",
      "converged SCF energy = -134.658230967921\n",
      "converged SCF energy = -136.61849694768\n",
      "converged SCF energy = -138.650291941986\n",
      "converged SCF energy = -140.753499287552\n",
      "converged SCF energy = -142.928032629659\n",
      "converged SCF energy = -145.173842533983\n",
      "converged SCF energy = -147.490926250079\n",
      "converged SCF energy = -149.879341119711\n",
      "converged SCF energy = -152.339221610058\n",
      "converged SCF energy = -154.870793911886\n",
      "converged SCF energy = -157.474378757527\n",
      "converged SCF energy = -160.150374484685\n",
      "converged SCF energy = -162.899228385826\n",
      "converged SCF energy = -165.721404217182\n",
      "converged SCF energy = -168.617331799468\n",
      "converged SCF energy = -171.587359221437\n",
      "converged SCF energy = -174.631776145511\n",
      "converged SCF energy = -177.750929241321\n",
      "converged SCF energy = -180.945439621966\n",
      "converged SCF energy = -184.216231822373\n",
      "converged SCF energy = -187.562644317658\n",
      "converged SCF energy = -190.982256197653\n",
      "converged SCF energy = -194.472431508296\n",
      "converged SCF energy = -198.031397906815\n",
      "converged SCF energy = -201.658177869053\n"
     ]
    }
   ],
   "source": [
    "### Calculating actual fractional charge energies\n",
    "frac_energies = []\n",
    "NN = gto.M(atom= f\"N 0 0 0; N 0 0 {d}\",unit=\"Bohr\",basis='unc-ccpvdz')\n",
    "i = 0\n",
    "while round(i,3) <= 5:\n",
    "    mol = FcM_like(NN,fcs=[-i,i])\n",
    "    mol=scf.RKS(mol)\n",
    "    mol.xc=\"PBE0\"\n",
    "    Te_mol=mol.scf(dm0=mol.init_guess_by_sx1e())\n",
    "    frac_energies.append(round(mol.energy_elec()[0],3))\n",
    "    i  += 0.1"
   ]
  },
  {
   "cell_type": "code",
   "execution_count": 98,
   "metadata": {},
   "outputs": [],
   "source": [
    "\n",
    "def d_Z_lambda(mol_i, mol_f,lam):\n",
    "    Z_i = np.array(mol_i.atom_charges())\n",
    "    Z_f = np.array(mol_f.atom_charges())\n",
    "    e = 7/3\n",
    "    num = (3/7)* (Z_f**e - Z_i**e)\n",
    "    den = ((Z_i**e) + lam*(Z_f**e - Z_i**e))**(4/7)\n",
    "    return num / den\n",
    "\n",
    "def Z_diff(mol_i, mol_f):\n",
    "    Z_i = np.array(mol_i.atom_charges())\n",
    "    Z_f = np.array(mol_f.atom_charges())\n",
    "    return Z_f - Z_i\n",
    "\n",
    "def AG(mf,sites=[0,1]):\n",
    "    grads=[]\n",
    "    for site in sites:\n",
    "        grads.append(first_deriv_elec(mf,DeltaV(mf.mol,[[site],[1]])))\n",
    "    return np.array(grads)\n",
    "\n",
    "def get_int(e_mol_i, l_grad_to_mol_f, start_lambda, end_lambda):\n",
    "    data = []\n",
    "    if start_lambda < end_lambda:\n",
    "        sign = 1\n",
    "    else:\n",
    "        sign = -1\n",
    "    i = start_lambda\n",
    "\n",
    "    while sign*round(i,3) <= sign*end_lambda:\n",
    "        data.append(round(e_mol_i + i*l_grad_to_mol_f,3))\n",
    "        i = round(i+ sign*np.abs(start_lambda - end_lambda)/20,3)\n",
    "    return np.array(data)\n",
    "\n",
    "def get_pred(mol_i,AG_i, e_i,lam):\n",
    "    '''Returns the linear Z and non linear Z prediction \n",
    "    from mol_i using it's alchemical grad and energy\n",
    "    at specific perturbation lam'''\n",
    "    \n",
    "    mol = FcM_like(mol_i,fcs=[-lam,lam])\n",
    "    return np.round([e_i + np.dot(Z_diff(mol_i,mol), AG_i),e_i + np.dot(d_Z_lambda(mol_i,mol,0), AG_i)],3) \n",
    "    "
   ]
  },
  {
   "attachments": {},
   "cell_type": "markdown",
   "metadata": {},
   "source": [
    "### Gradients from NN to CO and BF"
   ]
  },
  {
   "cell_type": "code",
   "execution_count": 87,
   "metadata": {},
   "outputs": [],
   "source": [
    "# Evaluating the linearized energy gradient at lambda = 0\n",
    "lam = 0\n",
    "\n",
    "ap_NN=AP(mol_NN,sites=[0,1])\n",
    "AG_NN = AG(mol_NN) \n",
    "\n",
    "# calculating linear and non-linear energy gradients\n",
    "nl_grad_NN_to_CO = round(np.dot(Z_diff(NN, CO), AG_NN),3)\n",
    "l_grad_NN_to_CO = round(np.dot(d_Z_lambda(NN,CO,lam), AG_NN),3)\n",
    "\n",
    "nl_grad_NN_to_BF = round(np.dot(Z_diff(NN, BF), AG_NN),3)\n",
    "l_grad_NN_to_BF = round(np.dot(d_Z_lambda(NN,BF,lam), AG_NN),3)\n"
   ]
  },
  {
   "cell_type": "code",
   "execution_count": 88,
   "metadata": {},
   "outputs": [
    {
     "data": {
      "text/plain": [
       "-136.8681760876302"
      ]
     },
     "execution_count": 88,
     "metadata": {},
     "output_type": "execute_result"
    }
   ],
   "source": [
    "'''Giorgio's idea'''\n",
    "A_N1  = AG_NN[0]*3/7*7**(-4/3)\n",
    "E_CO_pred = e_NN + A_N1*( 6**(7/3)+8**(7/3)-2*7**(7/3))\n",
    "E_CO_pred"
   ]
  },
  {
   "attachments": {},
   "cell_type": "markdown",
   "metadata": {},
   "source": []
  },
  {
   "attachments": {},
   "cell_type": "markdown",
   "metadata": {},
   "source": [
    "### Gradients from CO to NN and BF"
   ]
  },
  {
   "cell_type": "code",
   "execution_count": 89,
   "metadata": {},
   "outputs": [],
   "source": [
    "# Evaluating the linearized energy gradient at lambda = 0\n",
    "lam = 0\n",
    "\n",
    "ap_CO=AP(mol_CO,sites=[0,1])\n",
    "AG_CO = AG(mol_CO)\n",
    "\n",
    "# calculating linear and non-linear energy gradients\n",
    "nl_grad_CO_to_NN = round(np.dot(Z_diff(CO, NN), AG_CO),3)\n",
    "l_grad_CO_to_NN = round(np.dot(d_Z_lambda(CO,NN,lam), AG_CO),3)\n",
    "\n",
    "nl_grad_CO_to_BF = round(np.dot(Z_diff(CO, BF), AG_CO),3)\n",
    "l_grad_CO_to_BF = round(np.dot(d_Z_lambda(CO,BF,lam), AG_CO),3)"
   ]
  },
  {
   "attachments": {},
   "cell_type": "markdown",
   "metadata": {},
   "source": [
    "### Gradients from BF to CO and NN"
   ]
  },
  {
   "cell_type": "code",
   "execution_count": 90,
   "metadata": {},
   "outputs": [],
   "source": [
    "# Evaluating the linearized energy gradient at lambda = 0\n",
    "lam = 0\n",
    "\n",
    "ap_BF=AP(mol_BF,sites=[0,1])\n",
    "AG_BF = AG(mol_BF)\n",
    "\n",
    "# calculating linear and non-linear energy gradients\n",
    "nl_grad_BF_to_NN = round(np.dot(Z_diff(BF, NN), AG_BF),3)\n",
    "l_grad_BF_to_NN = round(np.dot(d_Z_lambda(BF,NN,lam), AG_BF),3)\n",
    "\n",
    "nl_grad_BF_to_CO = round(np.dot(Z_diff(BF, CO), AG_BF),3)\n",
    "l_grad_BF_to_CO = round(np.dot(d_Z_lambda(BF,CO,lam), AG_BF),3)"
   ]
  },
  {
   "cell_type": "code",
   "execution_count": 91,
   "metadata": {},
   "outputs": [
    {
     "data": {
      "text/plain": [
       "\"Don't worry about this\""
      ]
     },
     "execution_count": 91,
     "metadata": {},
     "output_type": "execute_result"
    }
   ],
   "source": [
    "'''Don't worry about this'''\n",
    "# vals = [NN_CO_int,NN_BF_int, CO_NN_int, CO_BF_int,BF_NN_int,BF_CO_int]\n",
    "# keys = ['NN_CO_int','NN_BF_int', 'CO_NN_int', 'CO_BF_int','BF_NN_int','BF_CO_int']\n",
    "# lines = dict(zip(keys, vals))\n",
    "# actual_points = [e_NN, e_CO, e_BF]\n",
    "# x_axis = np.linspace(0,2,21)\n",
    "# plt.plot(x_axis,np.array(frac_energies),label='Actual curve')\n",
    "# for line in lines:\n",
    "#     # plt.scatter(np.linspace(0,2,len(lines[line])),lines[line],label=line)\n",
    "#     plt.plot(x_axis,lines[line],'--',label=line)\n",
    "    \n",
    "# plt.legend()\n",
    "# plt.ylabel('Total Elec. enegy in Ha.')\n",
    "# plt.xlabel('Lambda')"
   ]
  },
  {
   "cell_type": "code",
   "execution_count": 114,
   "metadata": {},
   "outputs": [],
   "source": [
    "'''Preparing data for plotting'''\n",
    "from_NN_l = np.arra[]\n",
    "from_NN_nl = []\n",
    "steps = 50\n",
    "for i in np.linspace(0,5, steps + 1):\n",
    "    pre = get_pred(NN, AG_NN, e_NN, i)\n",
    "    from_NN_l.append(pre[0])\n",
    "    from_NN_nl.append(pre[1])\n",
    "    \n",
    "from_CO_l = []\n",
    "from_CO_nl = []\n",
    "for i in np.linspace(-1,4, steps + 1):\n",
    "    pre = get_pred(CO, AG_CO, e_CO, i)\n",
    "    from_CO_l.append(pre[0])\n",
    "    from_CO_nl.append(pre[1])\n",
    "\n",
    "from_BF_l = []\n",
    "from_BF_nl = []\n",
    "for i in np.linspace(-2,3, steps + 1):\n",
    "    pre = get_pred(BF, AG_BF, e_BF, i)\n",
    "    from_BF_l.append(pre[0])\n",
    "    from_BF_nl.append(pre[1])\n"
   ]
  },
  {
   "cell_type": "code",
   "execution_count": 143,
   "metadata": {},
   "outputs": [
    {
     "data": {
      "image/png": "[encoded data removed]",
      "text/plain": [
       "<Figure size 640x480 with 1 Axes>"
      ]
     },
     "metadata": {},
     "output_type": "display_data"
    }
   ],
   "source": [
    "'''Plotting everything'''\n",
    "frac_energies = np.array(frac_energies)\n",
    "vals = np.array([np.array(x) for x in [from_NN_l,from_NN_nl, from_CO_l, from_CO_nl,from_BF_l,from_BF_nl]])\n",
    "\n",
    "keys = ['L. Z @ NN','NL. Z @ NN', 'L. Z @ CO','NL. Z @ CO','L. Z @ BF','NL. Z @ BF']\n",
    "x_axis = np.linspace(0,5,steps + 1)\n",
    "lines = dict(zip(keys, vals))\n",
    "format = ['r:', 'r--', 'g:', 'g--', 'b:', 'b--']\n",
    "\n",
    "figure(figsize=(8, 6), dpi=80)\n",
    "plt.scatter([0,1,2],[e_NN, e_CO, e_BF],label='Comps.')\n",
    "plt.plot(x_axis,np.array(frac_energies),'black',label='Actual curve')\n",
    "\n",
    "i = 0\n",
    "for line in lines:\n",
    "    # plt.scatter(np.linspace(0,2,len(lines[line])),lines[line],label=line)\n",
    "    plt.plot(x_axis,lines[line],format[i],label=line)\n",
    "    i +=1\n",
    "plt.legend()\n",
    "plt.ylabel('Total Elec. enegy in Ha.')\n",
    "plt.xlabel('Lambda')\n",
    "# plt.savefig('main_curve',orientation='portrait')"
   ]
  },
  {
   "cell_type": "code",
   "execution_count": 121,
   "metadata": {},
   "outputs": [
    {
     "data": {
      "text/plain": [
       "Text(0, 0.5, 'Error in energy in Ha')"
      ]
     },
     "execution_count": 121,
     "metadata": {},
     "output_type": "execute_result"
    },
    {
     "data": {
      "image/png": "[encoded data removed]",
      "text/plain": [
       "<Figure size 640x480 with 1 Axes>"
      ]
     },
     "metadata": {},
     "output_type": "display_data"
    }
   ],
   "source": [
    "'''Plotting error'''\n",
    "plt.plot(x_axis, frac_energies - from_NN_nl,label='NL. Z @ NN error')\n",
    "plt.plot(x_axis, frac_energies - from_CO_nl,label='NL. Z @ CO error')\n",
    "plt.plot(x_axis, frac_energies - from_BF_nl,label='NL. Z @ BF error')\n",
    "plt.legend()\n",
    "plt.xlabel('Lambda')\n",
    "plt.ylabel('Error in energy in Ha')"
   ]
  },
  {
   "attachments": {},
   "cell_type": "markdown",
   "metadata": {},
   "source": [
    "#### getting average linearizing coeffecient = ratio of nl_grad to l_grad"
   ]
  },
  {
   "cell_type": "code",
   "execution_count": 36,
   "metadata": {},
   "outputs": [],
   "source": [
    "def lin_coeff():\n",
    "    nl_grads= np.array([nl_grad_CO_to_NN, nl_grad_CO_to_BF,\n",
    "                        nl_grad_BF_to_NN, nl_grad_BF_to_CO])\n",
    "\n",
    "    l_grads= np.array([l_grad_CO_to_NN, l_grad_CO_to_BF,\n",
    "                        l_grad_BF_to_NN, l_grad_BF_to_CO])\n",
    "\n",
    "    # nl_grads = np.append(nl_grads,[nl_grad_NN_to_BF, nl_grad_NN_to_CO])\n",
    "    # l_grads = np.append(l_grads,[l_grad_NN_to_BF, l_grad_NN_to_CO])\n",
    "    C = round(np.mean(l_grads / nl_grads),3)\n",
    "\n",
    "    NN_pred = ['NN','-', e_NN + C *nl_grad_NN_to_CO ,  e_NN + C *nl_grad_NN_to_BF]\n",
    "    CO_pred = ['CO',e_CO + C *nl_grad_CO_to_NN,'-' ,  e_CO + C *nl_grad_CO_to_BF]\n",
    "    BF_pred = ['BF',e_BF + C *nl_grad_BF_to_NN,e_BF + C *nl_grad_BF_to_CO,'-' ]\n",
    "\n",
    "    data = [\n",
    "        ['From \\ To', 'NN', 'CO','BF'],\n",
    "        ['NN',e_NN, e_NN + C *nl_grad_NN_to_CO ,  e_NN + C *nl_grad_NN_to_BF],\n",
    "        ['CO',round(e_CO + C *nl_grad_CO_to_NN,3),e_CO ,  round(e_CO + C *nl_grad_CO_to_BF,3)],\n",
    "        ['BF',round(e_BF + C *nl_grad_BF_to_NN,3),round(e_BF + C *nl_grad_BF_to_CO,3),e_BF ]\n",
    "    ]\n",
    "    table = generate_table(data)\n",
    "    print('Using average of linearizing coeffecient at CO and BF')\n",
    "    print()\n",
    "    print(table)"
   ]
  },
  {
   "cell_type": "code",
   "execution_count": 37,
   "metadata": {},
   "outputs": [],
   "source": [
    "def nl_grad():\n",
    "    print('Predictions from NN, CO and BF just using non-linear energy gradient')\n",
    "    print()\n",
    "    data = [\n",
    "        ['From \\ To', 'NN','err','CO','err','BF','err'],\n",
    "        ['NN', e_NN, 0,e_NN + nl_grad_NN_to_CO,round(e_NN + nl_grad_NN_to_CO - e_CO,3),e_NN + nl_grad_NN_to_BF,round(e_NN + nl_grad_NN_to_BF - e_BF,3)],\n",
    "        ['CO',e_CO + nl_grad_CO_to_NN,round(e_CO + nl_grad_CO_to_NN - e_NN,3),e_CO,0, e_CO + nl_grad_CO_to_BF,round(e_CO + nl_grad_CO_to_BF-e_BF,3)],\n",
    "        ['BF',e_BF + nl_grad_BF_to_NN,round(e_BF + nl_grad_BF_to_NN - e_NN,3),e_BF + nl_grad_BF_to_CO,round(e_BF + nl_grad_BF_to_CO - e_CO,3),e_BF,0 ]\n",
    "    ]\n",
    "    table = generate_table(data)\n",
    "    print(table)\n",
    "    print(f'NN actual energy = {e_NN}, \\nCO actual energy = {e_CO}, \\nBF actual energy = {e_BF}, \\n')"
   ]
  },
  {
   "cell_type": "code",
   "execution_count": 38,
   "metadata": {},
   "outputs": [],
   "source": [
    "def hessian():\n",
    "    '''Using Hessian'''\n",
    "    # modelling ax^2 + bx + c\n",
    "    a = -0.139 - 3.126\n",
    "    b = 0\n",
    "    c = -132.748\n",
    "    def app(l):\n",
    "        return round(a*l**2 + b*l + c,3)\n",
    "\n",
    "    print('Prediction of energies via the Hessian')\n",
    "    print()\n",
    "    data = [['Mol \\ Method', 'Actual (PBE; unc-ccpvdz with RKS)','Hessian from paper','Descrepency'],\n",
    "            [\n",
    "                'NN',e_NN, app(0),e_NN-app(0), \n",
    "            ],\n",
    "            [\n",
    "                'CO',e_CO, app(1),round(e_CO-app(1),3), \n",
    "            ],\n",
    "            [\n",
    "                'BF',e_BF, app(2),round(e_BF-app(2),3), \n",
    "            ]\n",
    "            \n",
    "            ]\n",
    "    table = generate_table(data)\n",
    "    print(table)"
   ]
  },
  {
   "cell_type": "code",
   "execution_count": 39,
   "metadata": {},
   "outputs": [
    {
     "name": "stdout",
     "output_type": "stream",
     "text": [
      "Predictions from NN, CO and BF just using linear Z / non-linear energy gradient\n",
      "\n",
      "| From \\ To | NN       | CO       | BF       |\n",
      "| --------- | -------- | -------- | -------- |\n",
      "| NN        | -132.748 | -132.748 | -132.748 |\n",
      "| CO        | -129.47  | -136.035 | -142.6   |\n",
      "| BF        | -119.826 | -132.831 | -145.837 |\n",
      "\n"
     ]
    }
   ],
   "source": [
    "'''Matrix with linear interpolation in Z'''\n",
    "print('Predictions from NN, CO and BF just using linear Z / non-linear energy gradient')\n",
    "print()\n",
    "data = [\n",
    "    ['From \\ To', 'NN','CO','BF'],\n",
    "    ['NN', e_NN,e_NN + nl_grad_NN_to_CO,e_NN + nl_grad_NN_to_BF],\n",
    "    ['CO',e_CO + nl_grad_CO_to_NN,e_CO, e_CO + nl_grad_CO_to_BF],\n",
    "    ['BF',e_BF + nl_grad_BF_to_NN,e_BF + nl_grad_BF_to_CO,e_BF]\n",
    "]\n",
    "table = generate_table(data)\n",
    "print(table)"
   ]
  },
  {
   "cell_type": "code",
   "execution_count": 40,
   "metadata": {},
   "outputs": [
    {
     "name": "stdout",
     "output_type": "stream",
     "text": [
      "Predictions from NN, CO and BF just using non-linear Z / linear energy gradient between pairs\n",
      "\n",
      "| From \\ To | NN       | CO       | BF       |\n",
      "| --------- | -------- | -------- | -------- |\n",
      "| NN        | -132.748 | -136.868 | -149.21  |\n",
      "| CO        | -133.628 | -136.035 | -146.739 |\n",
      "| BF        | -136.931 | -137.093 | -145.837 |\n",
      "\n"
     ]
    }
   ],
   "source": [
    "'''Matrix with linear interpolation in Z'''\n",
    "print('Predictions from NN, CO and BF just using non-linear Z / linear energy gradient between pairs')\n",
    "print()\n",
    "data = [\n",
    "    ['From \\ To', 'NN','CO','BF'],\n",
    "    ['NN', e_NN,e_NN + l_grad_NN_to_CO,round(e_NN + l_grad_NN_to_BF,3)],\n",
    "    ['CO',e_CO + l_grad_CO_to_NN,e_CO, e_CO + l_grad_CO_to_BF],\n",
    "    ['BF',round(e_BF + l_grad_BF_to_NN,3),e_BF + l_grad_BF_to_CO,e_BF]\n",
    "]\n",
    "table = generate_table(data)\n",
    "print(table)"
   ]
  },
  {
   "cell_type": "code",
   "execution_count": 76,
   "metadata": {},
   "outputs": [
    {
     "data": {
      "text/plain": [
       "[-119.826,\n",
       " -122.427,\n",
       " -125.028,\n",
       " -127.629,\n",
       " -130.23,\n",
       " -132.831,\n",
       " -135.433,\n",
       " -138.034,\n",
       " -140.635,\n",
       " -143.236,\n",
       " -145.837,\n",
       " -148.438,\n",
       " -151.039,\n",
       " -153.64,\n",
       " -156.241,\n",
       " -158.843,\n",
       " -161.444,\n",
       " -164.045,\n",
       " -166.646,\n",
       " -169.247,\n",
       " -171.848]"
      ]
     },
     "execution_count": 76,
     "metadata": {},
     "output_type": "execute_result"
    }
   ],
   "source": [
    "from_BF_l"
   ]
  },
  {
   "attachments": {},
   "cell_type": "markdown",
   "metadata": {},
   "source": []
  }
 ],
 "metadata": {
  "kernelspec": {
   "display_name": "Python 3 (ipykernel)",
   "language": "python",
   "name": "python3"
  },
  "language_info": {
   "codemirror_mode": {
    "name": "ipython",
    "version": 3
   },
   "file_extension": ".py",
   "mimetype": "text/x-python",
   "name": "python",
   "nbconvert_exporter": "python",
   "pygments_lexer": "ipython3",
   "version": "3.10.4"
  },
  "vp": {
   "vp_config_version": "1.0.0",
   "vp_menu_width": 273,
   "vp_note_display": false,
   "vp_note_width": 0,
   "vp_position": {
    "width": 278
   },
   "vp_section_display": false,
   "vp_signature": "VisualPython"
  }
 },
 "nbformat": 4,
 "nbformat_minor": 2
}
